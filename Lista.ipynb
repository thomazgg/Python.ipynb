{
  "nbformat": 4,
  "nbformat_minor": 0,
  "metadata": {
    "colab": {
      "provenance": [],
      "collapsed_sections": []
    },
    "kernelspec": {
      "name": "python3",
      "display_name": "Python 3"
    },
    "language_info": {
      "name": "python"
    }
  },
  "cells": [
    {
      "cell_type": "markdown",
      "source": [
        "1. Considere o seguinte dicionário: {'m1': {'m2': 'Olá Mundo'}}. Carregue e \n",
        "apresente a mensagem \"Olá Mundo\" contida no dicionário"
      ],
      "metadata": {
        "id": "KhmfBkKSVusN"
      }
    },
    {
      "cell_type": "code",
      "source": [
        "dicionario = {'m1': {'m2': 'Olá Mundo'}}\n",
        "\n",
        "print(dicionario.pop('m1').pop('m2'))"
      ],
      "metadata": {
        "colab": {
          "base_uri": "https://localhost:8080/"
        },
        "id": "CmcywekzVwCJ",
        "outputId": "f6ffde2f-6165-41ea-972b-feb59b0e04d9"
      },
      "execution_count": 63,
      "outputs": [
        {
          "output_type": "stream",
          "name": "stdout",
          "text": [
            "Olá Mundo\n"
          ]
        }
      ]
    },
    {
      "cell_type": "markdown",
      "source": [
        "2. Desenvolva um programa que tenha uma função que verifique se um número \n",
        "inteiro qualquer é par ou impar"
      ],
      "metadata": {
        "id": "O1OkHMFnVorK"
      }
    },
    {
      "cell_type": "code",
      "execution_count": 42,
      "metadata": {
        "colab": {
          "base_uri": "https://localhost:8080/"
        },
        "id": "SWnxf0MIURgn",
        "outputId": "6b004502-d392-4293-9e6c-a1c520376d94"
      },
      "outputs": [
        {
          "output_type": "stream",
          "name": "stdout",
          "text": [
            "Informe um número: \n",
            "3\n",
            "Impar\n"
          ]
        }
      ],
      "source": [
        "print(\"Informe um número: \")\n",
        "\n",
        "x = int(input())\n",
        "\n",
        "restante = x % 2\n",
        "\n",
        "if restante == 0:\n",
        "    print(\"Par\")\n",
        "else:\n",
        "    print(\"Impar\")"
      ]
    },
    {
      "cell_type": "markdown",
      "source": [
        "3. Desenvolva um programa que armazene quatro notas em uma lista e que \n",
        "apresente: a média final, a maior nota e a menor nota\n"
      ],
      "metadata": {
        "id": "k-ElaqKmVzgu"
      }
    },
    {
      "cell_type": "code",
      "source": [
        "notas = {'nota1': 4, 'nota2': 7, 'nota3': 3, 'nota4': 9}\n",
        "\n",
        "soma = (sum(notas.values()))\n",
        "\n",
        "media = soma / 4\n",
        "\n",
        "print(\"Média final:\", int(media))\n",
        "\n",
        "print(\"Maior nota:\", max(notas.values()))\n",
        "\n",
        "print(\"Menor nota:\", min(notas.values()))"
      ],
      "metadata": {
        "colab": {
          "base_uri": "https://localhost:8080/"
        },
        "id": "DLDrfQ2LV1_4",
        "outputId": "c3fe909a-835c-47d5-cee7-df56eefedf56"
      },
      "execution_count": 89,
      "outputs": [
        {
          "output_type": "stream",
          "name": "stdout",
          "text": [
            "Média final: 5\n",
            "Maior nota: 9\n",
            "Menor nota: 3\n"
          ]
        }
      ]
    },
    {
      "cell_type": "markdown",
      "source": [
        "4. Desenvolva um programa que altere em tempo de execução a palavra Java pela\n",
        "palavra Python na frase “Exercícios de Java”"
      ],
      "metadata": {
        "id": "nrLIHeRVV4jf"
      }
    },
    {
      "cell_type": "code",
      "source": [
        "frase = \"Exercícios de Java\"\n",
        "print(frase.replace(\"Java\", \"Python\")) # Altera Java -> Python"
      ],
      "metadata": {
        "colab": {
          "base_uri": "https://localhost:8080/"
        },
        "id": "dxeSzGfoV4NR",
        "outputId": "c714e2d0-ed52-4e96-a9e3-7e355e8ab47f"
      },
      "execution_count": 29,
      "outputs": [
        {
          "output_type": "stream",
          "name": "stdout",
          "text": [
            "Exercícios de Python\n"
          ]
        }
      ]
    },
    {
      "cell_type": "markdown",
      "source": [
        "5. Faça um programa que lê as duas notas parciais obtidas por um aluno numa \n",
        "disciplina ao longo de um semestre, e calcule a sua média. A atribuição de \n",
        "conceitos obedece à tabela abaixo\n",
        "\n",
        "![image_2022-09-25_221018808.png](data:image/png;base64,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)\n",
        "\n",
        "O algoritmo deve mostrar na tela as notas, a média, o conceito correspondente e a \n",
        "mensagem “APROVADO” se o conceito for A, B ou C ou “REPROVADO” se o \n",
        "conceito for D ou E."
      ],
      "metadata": {
        "id": "s4K6Q6GWV9UV"
      }
    },
    {
      "cell_type": "code",
      "source": [
        "print(\"Informe a primeira nota: \")\n",
        "nota1 = float(input())\n",
        "\n",
        "print(\"Informe a segunda nota: \")\n",
        "nota2 = float(input())\n",
        "\n",
        "#-------------------------------------\n",
        "\n",
        "nf = nota1 + nota2\n",
        "media = nf / 2\n",
        "\n",
        "print(\"\\nNota 1: \", nota1)\n",
        "print(\"Nota 2: \", nota2)\n",
        "print(\"\\nMedia: \", media)\n",
        "\n",
        "#-------------------------------------\n",
        "\n",
        "if media <= 10 and media > 9:\n",
        "    print('\\nConceito: A')\n",
        "    print('\\nAprovado')\n",
        "elif media <= 9 and media > 7.5:\n",
        "    print('\\nConceito: B')\n",
        "    print('\\nAprovado')\n",
        "elif media <= 7.5 and media > 6:\n",
        "    print('\\nConceito: C')\n",
        "    print('\\nAprovado')\n",
        "elif media <= 6 and media > 4:\n",
        "    print('\\nConceito: D')\n",
        "    print('\\nReprovado')\n",
        "elif media <= 4:\n",
        "    print('\\nConceito: E')\n",
        "    print('\\nReprovado')"
      ],
      "metadata": {
        "colab": {
          "base_uri": "https://localhost:8080/"
        },
        "id": "mAnFZ9mwWAA9",
        "outputId": "c473194b-71cb-4d12-adf5-010d084b68a7"
      },
      "execution_count": 62,
      "outputs": [
        {
          "output_type": "stream",
          "name": "stdout",
          "text": [
            "Informe a primeira nota: \n",
            "7\n",
            "Informe a segunda nota: \n",
            "8\n",
            "\n",
            "Nota 1:  7.0\n",
            "Nota 2:  8.0\n",
            "\n",
            "Media:  7.5\n",
            "\n",
            "Conceito: C\n",
            "\n",
            "Aprovado\n"
          ]
        }
      ]
    },
    {
      "cell_type": "markdown",
      "source": [
        "6. Faça um programa que receba duas palavras e retorne as letras que as palavras\n",
        "possuem em comum e as letras que são única de cada palavra."
      ],
      "metadata": {
        "id": "QmgDq7UtWNhE"
      }
    },
    {
      "cell_type": "code",
      "source": [
        "palavra1 = input()\n",
        "palavra2 = input()\n",
        "\n",
        "com = set()\n",
        "dif = set()\n",
        "\n",
        "for letra in palavra1:\n",
        "  if letra in palavra2:\n",
        "    com.add(letra)\n",
        "  else:\n",
        "    dif.add(letra)\n",
        "\n",
        "for letra in palavra2:\n",
        "  if letra in palavra1:\n",
        "    com.add(letra)\n",
        "  else:\n",
        "    dif.add(letra)\n",
        "\n",
        "# Recebe as palavras\n",
        "print(\"Letras em comum: \",com)\n",
        "print(\"Letras diferentes \",dif)"
      ],
      "metadata": {
        "colab": {
          "base_uri": "https://localhost:8080/"
        },
        "id": "q82Nx5zUc-Bl",
        "outputId": "f8c75695-b6d5-4a34-bfe7-d73fa238aed4"
      },
      "execution_count": 54,
      "outputs": [
        {
          "output_type": "stream",
          "name": "stdout",
          "text": [
            "churrasco\n",
            "comida\n",
            "Letras em comum:  {'a', 'o', 'c'}\n",
            "Letras diferentes  {'d', 'i', 'h', 'm', 'u', 'r', 's'}\n"
          ]
        }
      ]
    },
    {
      "cell_type": "markdown",
      "source": [
        "7. Crie uma classe que modele um retângulo:\n",
        "\n",
        "* Atributos: comprimento e largura (lados)\n",
        "* Métodos: mudar valor dos lados, retornar valor dos lados, calcular a área e calcular o perímetro;\n",
        "* Crie um programa que utilize esta classe. Ele deve pedir ao usuário que informe as medidas de um retângulo. Depois, deve criar um objeto com as medidas e calcular a área e o perímetro."
      ],
      "metadata": {
        "id": "fP911x8_hQ-H"
      }
    },
    {
      "cell_type": "code",
      "source": [
        "# Classe Retangulo\n",
        "class Retangulo:\n",
        "    # Atributos:\n",
        "    def __init__(self, comprimento, largura):\n",
        "        self.comprimento = comprimento\n",
        "        self.largura = largura\n",
        "\n",
        "    # Mudar Valor dos Lados\n",
        "    def mudar_valor_comprimento(self,novo_comprimento):\n",
        "        self.comprimento = novo_comprimento\n",
        "    def mudar_valor_largura(self, nova_largura):\n",
        "        self.largura = nova_largura\n",
        "\n",
        "    # Retorna o Valor dos Lados\n",
        "    def retornar_valor_lados(self):\n",
        "        print(f'\\nComprimento: {self.comprimento}cm, Largura: {self.largura}cm')\n",
        "\n",
        "    # Calcula a Área \n",
        "    def calcular_area(self):\n",
        "        area = self.largura * self.comprimento\n",
        "        print(f'\\nÁrea: {area} metros quadrados')     \n",
        "\n",
        "    # Calculra o Perímetro\n",
        "    def calcular_perimetro(self):\n",
        "        perimetro = 2*self.largura + 2*self.comprimento\n",
        "        print(f'Perímetro: {perimetro}m')                           \n",
        "\n",
        "#-------------------------------------\n",
        "\n",
        "x = float(input('Informe o comprimento: '))\n",
        "y = float(input('Informe a largura: '))\n",
        "\n",
        "local = Retangulo(x,y)\n",
        "\n",
        "local.retornar_valor_lados()\n",
        "local.calcular_area()\n",
        "local.calcular_perimetro()"
      ],
      "metadata": {
        "colab": {
          "base_uri": "https://localhost:8080/"
        },
        "id": "s6gKruW4hi-B",
        "outputId": "10903095-0085-48dc-cb31-4dba9fd4f806"
      },
      "execution_count": 85,
      "outputs": [
        {
          "output_type": "stream",
          "name": "stdout",
          "text": [
            "Informe o comprimento: 6\n",
            "Informe a largura: 7\n",
            "\n",
            "Comprimento: 6.0cm, Largura: 7.0cm\n",
            "\n",
            "Área: 42.0 metros quadrados\n",
            "Perímetro: 26.0m\n"
          ]
        }
      ]
    },
    {
      "cell_type": "markdown",
      "source": [
        "8. Crie um módulo em Python (formas.py) que contenha a classe “retângulo” do \n",
        "exercício anterior. Faça uso da classe a partir do módulo."
      ],
      "metadata": {
        "id": "IwW64Wuehm-M"
      }
    },
    {
      "cell_type": "code",
      "source": [
        "!python formas.py"
      ],
      "metadata": {
        "colab": {
          "base_uri": "https://localhost:8080/"
        },
        "id": "F_yc_A_dhmVm",
        "outputId": "bacd9b43-5583-4e45-b316-e283e3275e8a"
      },
      "execution_count": 103,
      "outputs": [
        {
          "output_type": "stream",
          "name": "stdout",
          "text": [
            "Informe o comprimento: 3\n",
            "Informe a largura: 4\n",
            "\n",
            "Comprimento: 3.0cm, Largura: 4.0cm\n",
            "\n",
            "Área: 12.0 metros quadrados\n",
            "Perímetro: 14.0m\n"
          ]
        }
      ]
    },
    {
      "cell_type": "markdown",
      "source": [
        "9. Altera o módulo anterior (formas.py) para incluir a classe “quadrado” que deve \n",
        "ter os mesmos atributos e métodos da classe “retângulo”. Faça uso da classe \n",
        "quadrado a partir do módulo."
      ],
      "metadata": {
        "id": "qNxWuxBThnkm"
      }
    },
    {
      "cell_type": "code",
      "source": [
        "!python formas.py"
      ],
      "metadata": {
        "colab": {
          "base_uri": "https://localhost:8080/"
        },
        "id": "rBubJjk8hs_D",
        "outputId": "b185c6ed-db55-435d-8189-68643773fdc4"
      },
      "execution_count": 107,
      "outputs": [
        {
          "output_type": "stream",
          "name": "stdout",
          "text": [
            "========= Retangulo =========\n",
            " Informe o comprimento: 10\n",
            "Informe a largura: 4\n",
            "\n",
            "Comprimento: 10.0cm, Largura: 4.0cm\n",
            "\n",
            "Área: 40.0 metros quadrados\n",
            "Perímetro: 28.0m\n",
            "\n",
            "========= Quadrado =========\n",
            "Informe o comprimento: 5\n",
            "Informe a largura: 6\n",
            "\n",
            "Comprimento: 5.0cm, Largura: 6.0cm\n",
            "\n",
            "Área: 30.0 metros quadrados\n",
            "Perímetro: 22.0m\n"
          ]
        }
      ]
    },
    {
      "cell_type": "markdown",
      "source": [
        "10. Crie uma classe em Python para geração de logs em arquivo texto, \n",
        "considerando:\n",
        "* Nomear o arquivo no construtor da classe\n",
        "* Método para adicionar um novo registro ao arquivo\n",
        "* Método para exibir o conteúdo do arquivo\n",
        "* Método para incluir um novo registro eliminando o arquivo anterior"
      ],
      "metadata": {
        "id": "JWfmb0kJhtNm"
      }
    },
    {
      "cell_type": "code",
      "source": [],
      "metadata": {
        "id": "hkKdZV_4touG"
      },
      "execution_count": 104,
      "outputs": []
    }
  ]
}