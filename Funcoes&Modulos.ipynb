{
  "nbformat": 4,
  "nbformat_minor": 0,
  "metadata": {
    "colab": {
      "name": "Funcoes&Modulos.ipynb",
      "provenance": [],
      "collapsed_sections": [],
      "toc_visible": true
    },
    "kernelspec": {
      "name": "python3",
      "display_name": "Python 3"
    },
    "language_info": {
      "name": "python"
    }
  },
  "cells": [
    {
      "cell_type": "markdown",
      "source": [
        "# Funções"
      ],
      "metadata": {
        "id": "UPbMF-yuQ5Wn"
      }
    },
    {
      "cell_type": "code",
      "source": [
        "def velocidade(espaco, tempo):\n",
        "  v = espaco/tempo\n",
        "  print('velocidade: {} m/s'.format(v))\n",
        "\n",
        "velocidade(100, 20)"
      ],
      "metadata": {
        "colab": {
          "base_uri": "https://localhost:8080/"
        },
        "id": "7pPRqnD4Qr-N",
        "outputId": "893a9708-3319-41bc-dae5-66fe92e176d9"
      },
      "execution_count": null,
      "outputs": [
        {
          "output_type": "stream",
          "name": "stdout",
          "text": [
            "velocidade: 5.0 m/s\n"
          ]
        }
      ]
    },
    {
      "cell_type": "code",
      "source": [
        "def diz_oi():\n",
        "  print(\"oi\")\n",
        "\n",
        "diz_oi()"
      ],
      "metadata": {
        "colab": {
          "base_uri": "https://localhost:8080/"
        },
        "id": "CcPmyPBeQunF",
        "outputId": "fdf180a4-17ec-4b13-946d-2d59aadafb80"
      },
      "execution_count": null,
      "outputs": [
        {
          "output_type": "stream",
          "name": "stdout",
          "text": [
            "oi\n"
          ]
        }
      ]
    },
    {
      "cell_type": "code",
      "source": [
        "def dados(nome, idade=None):\n",
        "  print('nome: {}'.format(nome))\n",
        "  if(idade is not None):\n",
        "    print('idade: {}'.format(idade))\n",
        "  else:\n",
        "    print('idade: não informada')\n",
        "\n",
        "dados('joão', 20)\n",
        "print('--------------------')\n",
        "dados('joão')\n",
        "print('--------------------')\n",
        "dados(20)\n",
        "print('--------------------')\n",
        "dados(idade=20) # vai dar erro"
      ],
      "metadata": {
        "colab": {
          "base_uri": "https://localhost:8080/",
          "height": 356
        },
        "id": "sQzpbhzxQu3X",
        "outputId": "b4c92983-645a-4c3c-a285-2aad67e2aa82"
      },
      "execution_count": null,
      "outputs": [
        {
          "output_type": "stream",
          "name": "stdout",
          "text": [
            "nome: joão\n",
            "idade: 20\n",
            "--------------------\n",
            "nome: joão\n",
            "idade: não informada\n",
            "--------------------\n",
            "nome: 20\n",
            "idade: não informada\n",
            "--------------------\n"
          ]
        },
        {
          "output_type": "error",
          "ename": "TypeError",
          "evalue": "ignored",
          "traceback": [
            "\u001b[0;31m---------------------------------------------------------------------------\u001b[0m",
            "\u001b[0;31mTypeError\u001b[0m                                 Traceback (most recent call last)",
            "\u001b[0;32m<ipython-input-8-185e6063667b>\u001b[0m in \u001b[0;36m<module>\u001b[0;34m\u001b[0m\n\u001b[1;32m     12\u001b[0m \u001b[0mdados\u001b[0m\u001b[0;34m(\u001b[0m\u001b[0;36m20\u001b[0m\u001b[0;34m)\u001b[0m\u001b[0;34m\u001b[0m\u001b[0;34m\u001b[0m\u001b[0m\n\u001b[1;32m     13\u001b[0m \u001b[0mprint\u001b[0m\u001b[0;34m(\u001b[0m\u001b[0;34m'--------------------'\u001b[0m\u001b[0;34m)\u001b[0m\u001b[0;34m\u001b[0m\u001b[0;34m\u001b[0m\u001b[0m\n\u001b[0;32m---> 14\u001b[0;31m \u001b[0mdados\u001b[0m\u001b[0;34m(\u001b[0m\u001b[0midade\u001b[0m\u001b[0;34m=\u001b[0m\u001b[0;36m20\u001b[0m\u001b[0;34m)\u001b[0m \u001b[0;31m# vai dar erro\u001b[0m\u001b[0;34m\u001b[0m\u001b[0;34m\u001b[0m\u001b[0m\n\u001b[0m",
            "\u001b[0;31mTypeError\u001b[0m: dados() missing 1 required positional argument: 'nome'"
          ]
        }
      ]
    },
    {
      "cell_type": "code",
      "source": [
        "def velocidade(espaco, tempo):\n",
        "  v = espaco/tempo\n",
        "  return v\n",
        "\n",
        "print(velocidade(100, 20))"
      ],
      "metadata": {
        "colab": {
          "base_uri": "https://localhost:8080/"
        },
        "id": "WfXWYKzVH21G",
        "outputId": "b1e10c22-dc84-4305-aafd-4dda64e9a462"
      },
      "execution_count": null,
      "outputs": [
        {
          "output_type": "stream",
          "name": "stdout",
          "text": [
            "5.0\n"
          ]
        }
      ]
    },
    {
      "cell_type": "code",
      "source": [
        "def dados(nome, idade=None):\n",
        "  if(idade is not None):\n",
        "    return ('nome: {} \\nidade: {}'.format(nome, idade))\n",
        "  else:\n",
        "    return ('nome: {} \\nidade: não informada'.format(nome))\n",
        "\n",
        "    \n",
        "dados(2,1)"
      ],
      "metadata": {
        "colab": {
          "base_uri": "https://localhost:8080/",
          "height": 35
        },
        "id": "H4EtfajAIbh-",
        "outputId": "58ca7fd3-e907-4aa1-f095-2042b6e345cc"
      },
      "execution_count": null,
      "outputs": [
        {
          "output_type": "execute_result",
          "data": {
            "text/plain": [
              "'nome: 2 \\nidade: 1'"
            ],
            "application/vnd.google.colaboratory.intrinsic+json": {
              "type": "string"
            }
          },
          "metadata": {},
          "execution_count": 6
        }
      ]
    },
    {
      "cell_type": "code",
      "source": [
        "def calculadora(x, y):\n",
        "  return x+y, x-y\n",
        "\n",
        "print(calculadora(1, 2))\n",
        "\n",
        "print(type(calculadora(1,2)))"
      ],
      "metadata": {
        "colab": {
          "base_uri": "https://localhost:8080/"
        },
        "id": "r3nE3HYRKfCe",
        "outputId": "2a946ac8-30b9-4f22-a1c1-83c53ef9b7d3"
      },
      "execution_count": null,
      "outputs": [
        {
          "output_type": "stream",
          "name": "stdout",
          "text": [
            "(3, -1)\n",
            "<class 'tuple'>\n"
          ]
        }
      ]
    },
    {
      "cell_type": "code",
      "source": [
        "def calculadora(x, y):\n",
        "  return {'soma':x+y, 'subtração':x-y}\n",
        "\n",
        "resultados = calculadora(1, 2)\n",
        "\n",
        "for key in resultados:\n",
        "  print('{}: {}'.format(key,resultados[key]))"
      ],
      "metadata": {
        "colab": {
          "base_uri": "https://localhost:8080/"
        },
        "id": "woJk0kPpKo8m",
        "outputId": "c1220f1d-c4ca-405f-fc2c-40583456a399"
      },
      "execution_count": null,
      "outputs": [
        {
          "output_type": "stream",
          "name": "stdout",
          "text": [
            "soma: 3\n",
            "subtração: -1\n"
          ]
        }
      ]
    },
    {
      "cell_type": "markdown",
      "source": [
        "NÚMERO ARBITRÁRIO DE PARÂMETROS (*ARGS)"
      ],
      "metadata": {
        "id": "OcmN5-C_PGY9"
      }
    },
    {
      "cell_type": "code",
      "source": [
        "# NÚMERO ARBITRÁRIO DE PARÂMETROS (*ARGS)\n",
        "\n",
        "#Podemos passar um número arbitrário de parâmetros em uma função. \n",
        "\n",
        "#Utilizamos as chamadas variáveis mágicas do Python: *args e **kwargs.\n",
        "\n",
        "def teste(arg1, *args):\n",
        "  print('primeiro argumento normal: {}'.format(arg1))\n",
        "\n",
        "  for arg in args:\n",
        "    print('outro argumento: {}'.format(arg))\n",
        "\n",
        "print('----------teste----------')\n",
        "teste('python', 'é', 'muito', 'legal')\n",
        "\n",
        "# Temos o mesmo resultado passando um tipo \n",
        "# list ou tuplecomo argumento, acrescido do asterisco:\n",
        "\n",
        "print('\\n----------lista----------')\n",
        "lista = [\"é\", \"muito\", \"legal\"]\n",
        "teste('python', *lista)\n",
        "\n",
        "print('\\n----------tupla----------')\n",
        "tupla = (\"é\", \"muito\", \"legal\")\n",
        "teste('python', *tupla)"
      ],
      "metadata": {
        "colab": {
          "base_uri": "https://localhost:8080/"
        },
        "id": "pVK9k2irMiod",
        "outputId": "a28f46cd-36da-4f64-a9cc-fe3356388ab6"
      },
      "execution_count": null,
      "outputs": [
        {
          "output_type": "stream",
          "name": "stdout",
          "text": [
            "----------teste----------\n",
            "primeiro argumento normal: python\n",
            "outro argumento: é\n",
            "outro argumento: muito\n",
            "outro argumento: legal\n",
            "\n",
            "----------lista----------\n",
            "primeiro argumento normal: python\n",
            "outro argumento: é\n",
            "outro argumento: muito\n",
            "outro argumento: legal\n",
            "\n",
            "----------tupla----------\n",
            "primeiro argumento normal: python\n",
            "outro argumento: é\n",
            "outro argumento: muito\n",
            "outro argumento: legal\n"
          ]
        }
      ]
    },
    {
      "cell_type": "code",
      "source": [
        "# O asterisco ( * ) identifica os dados como \n",
        "# uma coleção que precisa ser desempacotada.\n",
        "\n",
        "a, *b, c = range(5)\n",
        "\n",
        "print('a:',a)\n",
        "print('b:',b)\n",
        "print('c:',c)"
      ],
      "metadata": {
        "colab": {
          "base_uri": "https://localhost:8080/"
        },
        "id": "qPwmsCnENYK-",
        "outputId": "8fbc4579-6335-4fe2-dfd7-c2b3ea116181"
      },
      "execution_count": null,
      "outputs": [
        {
          "output_type": "stream",
          "name": "stdout",
          "text": [
            "a: 0\n",
            "b: [1, 2, 3]\n",
            "c: 4\n"
          ]
        }
      ]
    },
    {
      "cell_type": "markdown",
      "source": [
        "NÚMERO ARBITRÁRIO DE CHAVES (**KWARGS)"
      ],
      "metadata": {
        "id": "uTOI6vcUPQzF"
      }
    },
    {
      "cell_type": "code",
      "source": [
        "def kw_func(**kwargs):\n",
        "  for key, value in kwargs.items():\n",
        "    print('{0} = {1}'.format(key, value))\n",
        "\n",
        "kw_func(nome='FIB')\n",
        "\n",
        "dicionario = {'nome': 'joao', 'idade': 25}\n",
        "kw_func(**dicionario)"
      ],
      "metadata": {
        "colab": {
          "base_uri": "https://localhost:8080/"
        },
        "id": "HA03wYtgOuOt",
        "outputId": "7cfb7676-ec7d-4962-e8e8-c4b0bca263ee"
      },
      "execution_count": null,
      "outputs": [
        {
          "output_type": "stream",
          "name": "stdout",
          "text": [
            "nome = FIB\n",
            "nome = joao\n",
            "idade = 25\n"
          ]
        }
      ]
    },
    {
      "cell_type": "markdown",
      "source": [
        "# Módulos\n",
        "\n",
        "Modulo é um aquivo .py"
      ],
      "metadata": {
        "id": "iAEFyALUPuw2"
      }
    },
    {
      "cell_type": "code",
      "source": [
        "import funcoes as func\n",
        "\n",
        "func.velocidade_media(200, 20)"
      ],
      "metadata": {
        "colab": {
          "base_uri": "https://localhost:8080/"
        },
        "id": "L4aLCgo4RGYc",
        "outputId": "a40aa06c-3915-4c84-ed5a-980956aa7db0"
      },
      "execution_count": null,
      "outputs": [
        {
          "output_type": "stream",
          "name": "stdout",
          "text": [
            "oi\n"
          ]
        },
        {
          "output_type": "execute_result",
          "data": {
            "text/plain": [
              "10.0"
            ]
          },
          "metadata": {},
          "execution_count": 1
        }
      ]
    }
  ]
}