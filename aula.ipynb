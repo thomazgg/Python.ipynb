{
  "nbformat": 4,
  "nbformat_minor": 0,
  "metadata": {
    "colab": {
      "name": "Untitled0.ipynb",
      "provenance": [],
      "collapsed_sections": [],
      "toc_visible": true,
      "authorship_tag": "ABX9TyPfBfc8Aobo3xYE5944wMw3",
      "include_colab_link": true
    },
    "kernelspec": {
      "name": "python3",
      "display_name": "Python 3"
    },
    "language_info": {
      "name": "python"
    }
  },
  "cells": [
    {
      "cell_type": "markdown",
      "metadata": {
        "id": "view-in-github",
        "colab_type": "text"
      },
      "source": [
        "<a href=\"https://colab.research.google.com/github/thomazgg/Advance-Discord.js/blob/main/aula.ipynb\" target=\"_parent\"><img src=\"https://colab.research.google.com/assets/colab-badge.svg\" alt=\"Open In Colab\"/></a>"
      ]
    },
    {
      "cell_type": "markdown",
      "source": [
        "# Indentação"
      ],
      "metadata": {
        "id": "-8shbrhjGBih"
      }
    },
    {
      "cell_type": "markdown",
      "source": [
        ""
      ],
      "metadata": {
        "id": "PVZJHjGLGOhx"
      }
    },
    {
      "cell_type": "code",
      "execution_count": null,
      "metadata": {
        "id": "VLoWWiXBDIGR"
      },
      "outputs": [],
      "source": [
        "# Uma linha quebrada por contra-barra\n",
        "a = 7 * 3 + \\\n",
        "5 / 2"
      ]
    },
    {
      "cell_type": "code",
      "source": [
        "# Uma lista (quebrada por vírgula)\n",
        "b = ['a','b','c',\n",
        "     'd','e']"
      ],
      "metadata": {
        "id": "9XPXr2DPEMFC"
      },
      "execution_count": null,
      "outputs": []
    },
    {
      "cell_type": "code",
      "source": [
        "# Uma chamada de função (quebrada por vírgula)\n",
        "c = range(1,\n",
        "          11)"
      ],
      "metadata": {
        "id": "k8Tll4KbEOpY"
      },
      "execution_count": null,
      "outputs": []
    },
    {
      "cell_type": "code",
      "source": [
        "# Para i na lista 234, 654, 378, 798:\n",
        "for i in [234, 654, 565, 378, 798, 344]:\n",
        "  # Se o resto dividingo por 3 for igual a zero:\n",
        "  if i % 3 == 0: # Imprimo...\n",
        "    print(i, '/ 3 =', i / 3)"
      ],
      "metadata": {
        "colab": {
          "base_uri": "https://localhost:8080/"
        },
        "id": "X84pD9j5EqIw",
        "outputId": "7064ef11-c184-453a-a86f-6fb4bd5bd9a3"
      },
      "execution_count": null,
      "outputs": [
        {
          "output_type": "stream",
          "name": "stdout",
          "text": [
            "234 / 3 = 78.0\n",
            "654 / 3 = 218.0\n",
            "378 / 3 = 126.0\n",
            "798 / 3 = 266.0\n"
          ]
        }
      ]
    },
    {
      "cell_type": "markdown",
      "source": [
        "# Hello Word"
      ],
      "metadata": {
        "id": "R1aqNuVlGRDS"
      }
    },
    {
      "cell_type": "code",
      "source": [
        "!python pasta/hello.py"
      ],
      "metadata": {
        "colab": {
          "base_uri": "https://localhost:8080/"
        },
        "id": "dkpfojNAGZ4M",
        "outputId": "a68c01a6-404a-4600-a57d-b99974f2cfe1"
      },
      "execution_count": null,
      "outputs": [
        {
          "output_type": "stream",
          "name": "stdout",
          "text": [
            "Hello Word\n"
          ]
        }
      ]
    },
    {
      "cell_type": "markdown",
      "source": [
        "# Sherek"
      ],
      "metadata": {
        "id": "fJGAHrZUJSjR"
      }
    },
    {
      "cell_type": "code",
      "source": [
        "a = 1\n",
        "while i:\n",
        "    !python pasta/sherek.py"
      ],
      "metadata": {
        "id": "9SiQsFH8JWDQ"
      },
      "execution_count": 14,
      "outputs": []
    },
    {
      "cell_type": "markdown",
      "source": [
        "# Numeros, exemplos"
      ],
      "metadata": {
        "id": "jco-k5q0LXTI"
      }
    },
    {
      "cell_type": "code",
      "source": [
        "# Convertendo de real para inteiro\n",
        "print('int(3.14) =', int(3.14))\n",
        "\n",
        "# Convertendo de inteiro para real\n",
        "print('\\nfloat(5) =', float(5))\n",
        "\n",
        "# Calculo entre inteiro e real resulta em real\n",
        "print('\\n5.0 / 2 + 3 = ', 5.0 / 2 + 3)\n",
        "\n",
        "# Inteíros em outra base\n",
        "print(\"\\nint('20', 8) =\", int('20', 8)) # base 8\n",
        "print(\"int('20', 16) =\", int('20', 16)) # base 16\n",
        "\n",
        "# Operações com números complexos\n",
        "c = 3 + 4j\n",
        "print('\\nc =', c)\n",
        "print('Parte real:', c.real)\n",
        "print('Parte imaginária:', c.imag)\n",
        "print('Conjugado:', c.conjugate())"
      ],
      "metadata": {
        "colab": {
          "base_uri": "https://localhost:8080/"
        },
        "id": "z9yA8mCcLZoI",
        "outputId": "98db129e-e1da-4a8f-99fe-19d7c8c11f09"
      },
      "execution_count": 16,
      "outputs": [
        {
          "output_type": "stream",
          "name": "stdout",
          "text": [
            "int(3.14) = 3\n",
            "\n",
            "float(5) = 5.0\n",
            "\n",
            "5.0 / 2 + 3 =  5.5\n",
            "\n",
            "int('20', 8) = 16\n",
            "int('20', 16) = 32\n",
            "\n",
            "c = (3+4j)\n",
            "Parte real: 3.0\n",
            "Parte imaginária: 4.0\n",
            "Conjugado: (3-4j)\n"
          ]
        }
      ]
    },
    {
      "cell_type": "markdown",
      "source": [
        "# Strings"
      ],
      "metadata": {
        "id": "PsOc2sK4Mo3w"
      }
    },
    {
      "cell_type": "code",
      "source": [
        "s = 'Camel'\n",
        "\n",
        "# Concatenação\n",
        "print('The ' + s + ' run away!') # Interpolação\n",
        "print('Tamanho de %s => %d\\n' % (s, len(s))) # String tratada como sequência\n",
        "\n",
        "for ch in s:\n",
        "  print(ch) # Strings são objetos\n",
        "\n",
        "if s.startswith('C'):\n",
        "  print('\\n',s.upper(), '\\n')\n",
        "\n",
        "print(3 * s)\n",
        "# 3 * s é consistente com s + s +5s\n"
      ],
      "metadata": {
        "colab": {
          "base_uri": "https://localhost:8080/"
        },
        "id": "7zobMaQ0MqyX",
        "outputId": "84ffa230-e6f9-412c-822d-1ca8e406bd9a"
      },
      "execution_count": 18,
      "outputs": [
        {
          "output_type": "stream",
          "name": "stdout",
          "text": [
            "The Camel run away!\n",
            "Tamanho de Camel => 5\n",
            "\n",
            "C\n",
            "a\n",
            "m\n",
            "e\n",
            "l\n",
            "\n",
            " CAMEL \n",
            "\n",
            "CamelCamelCamel\n"
          ]
        }
      ]
    },
    {
      "cell_type": "markdown",
      "source": [
        "# Sintaxe"
      ],
      "metadata": {
        "id": "ii_Pz9SePQTQ"
      }
    },
    {
      "cell_type": "code",
      "source": [
        "musicos = [('Page', 'guitarrista', 'Led Zeppelin'), ('Fripp', 'guitarrista', 'King Crimson')]\n",
        "# Parametros identificados pela ordem\n",
        "msg = '{0} é {1} do {2}'\n",
        "\n",
        "for nome, funcao, banda in musicos:\n",
        "  print(msg.format(nome, funcao, banda))\n"
      ],
      "metadata": {
        "colab": {
          "base_uri": "https://localhost:8080/"
        },
        "id": "IOPSnU-4PPUx",
        "outputId": "f0b885d0-65dd-4894-9ae6-ce4abb5c011d"
      },
      "execution_count": 21,
      "outputs": [
        {
          "output_type": "stream",
          "name": "stdout",
          "text": [
            "Page é guitarrista do Led Zeppelin\n",
            "Fripp é guitarrista do King Crimson\n"
          ]
        }
      ]
    },
    {
      "cell_type": "code",
      "source": [
        "s = \"Python\"\n",
        "print(s[::-1])"
      ],
      "metadata": {
        "colab": {
          "base_uri": "https://localhost:8080/"
        },
        "id": "WxBwfEutQStf",
        "outputId": "4f0f31b4-1961-4d54-d184-91e8644a7c02"
      },
      "execution_count": 22,
      "outputs": [
        {
          "output_type": "stream",
          "name": "stdout",
          "text": [
            "nohtyP\n"
          ]
        }
      ]
    },
    {
      "cell_type": "markdown",
      "source": [
        "# Controle de fluxo"
      ],
      "metadata": {
        "id": "g1gVUcK7QiAq"
      }
    },
    {
      "cell_type": "code",
      "source": [
        "temp = int(input('Entre com a temperatura: '))\n",
        "\n",
        "if temp < 0:\n",
        "  print('Congelando. ..')\n",
        "\n",
        "elif 0 <= temp <= 20:\n",
        "  prínt('Frio')\n",
        "\n",
        "elif 21 <= temp <= 25:\n",
        "  print('Norsal')\n",
        "\n",
        "elif 26 <= temp <= 35:\n",
        "  print('Quente')\n",
        "\n",
        "else:\n",
        "  print('Bauru!')\n"
      ],
      "metadata": {
        "colab": {
          "base_uri": "https://localhost:8080/"
        },
        "id": "EKbnyVl-Qkfw",
        "outputId": "c22abad7-d1e8-422d-84f1-1f4172c0b3c9"
      },
      "execution_count": 24,
      "outputs": [
        {
          "output_type": "stream",
          "name": "stdout",
          "text": [
            "Entre com a temperatura: 42\n",
            "Bauru!\n"
          ]
        }
      ]
    }
  ]
}