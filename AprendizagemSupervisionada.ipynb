{
  "nbformat": 4,
  "nbformat_minor": 0,
  "metadata": {
    "colab": {
      "provenance": [],
      "authorship_tag": "ABX9TyMtZ0m7wAb2JV47p4qmGWYV",
      "include_colab_link": true
    },
    "kernelspec": {
      "name": "python3",
      "display_name": "Python 3"
    },
    "language_info": {
      "name": "python"
    }
  },
  "cells": [
    {
      "cell_type": "markdown",
      "metadata": {
        "id": "view-in-github",
        "colab_type": "text"
      },
      "source": [
        "<a href=\"https://colab.research.google.com/github/thomazgg/Python.ipynb/blob/main/AprendizagemSupervisionada.ipynb\" target=\"_parent\"><img src=\"https://colab.research.google.com/assets/colab-badge.svg\" alt=\"Open In Colab\"/></a>"
      ]
    },
    {
      "cell_type": "markdown",
      "source": [
        "#Hands-on\n",
        "\n",
        "Classificador de tipo de flor Íris usando o algoritmo KNN da biblioteca SK-Learn"
      ],
      "metadata": {
        "id": "1mcUv7M-pY7M"
      }
    },
    {
      "cell_type": "code",
      "execution_count": 1,
      "metadata": {
        "id": "10575P-IpTW_"
      },
      "outputs": [],
      "source": [
        "#Import modules\n",
        "import numpy as np\n",
        "from sklearn import datasets\n",
        "from sklearn.neighbors import KNeighborsClassifier\n",
        "from sklearn.model_selection import train_test_split"
      ]
    },
    {
      "cell_type": "code",
      "source": [
        "#Import and load data\n",
        "iris = datasets.load_iris()"
      ],
      "metadata": {
        "id": "wH9FWmtOpoGF"
      },
      "execution_count": 35,
      "outputs": []
    },
    {
      "cell_type": "code",
      "source": [
        "#X = iris.data[:, [0, 1, 2, 3]]\n",
        "X = iris.data\n",
        "y = iris.target"
      ],
      "metadata": {
        "id": "4XntYRkKppsT"
      },
      "execution_count": 36,
      "outputs": []
    },
    {
      "cell_type": "code",
      "source": [
        "# Dividir os dados em conjuntos de dados de treinamento e teste.\n",
        "X_train, X_test, y_train, y_test = train_test_split(X, y, test_size=0.3, random_state=0)\n",
        "print('There are {} samples in the training set and {} samples in the test set'.\n",
        "format(len(X_train), len(X_test)))"
      ],
      "metadata": {
        "colab": {
          "base_uri": "https://localhost:8080/"
        },
        "id": "GLgDFu7VpsA0",
        "outputId": "a7a925e0-8d1c-4c81-d882-61ec36cac614"
      },
      "execution_count": 37,
      "outputs": [
        {
          "output_type": "stream",
          "name": "stdout",
          "text": [
            "There are 105 samples in the training set and 45 samples in the test set\n"
          ]
        }
      ]
    },
    {
      "cell_type": "code",
      "source": [
        "X_test"
      ],
      "metadata": {
        "colab": {
          "base_uri": "https://localhost:8080/"
        },
        "id": "ZC6dsh5ypxCQ",
        "outputId": "90ce0147-f333-4976-ddb2-2b8e9b5108d1"
      },
      "execution_count": 38,
      "outputs": [
        {
          "output_type": "execute_result",
          "data": {
            "text/plain": [
              "array([[5.8, 2.8, 5.1, 2.4],\n",
              "       [6. , 2.2, 4. , 1. ],\n",
              "       [5.5, 4.2, 1.4, 0.2],\n",
              "       [7.3, 2.9, 6.3, 1.8],\n",
              "       [5. , 3.4, 1.5, 0.2],\n",
              "       [6.3, 3.3, 6. , 2.5],\n",
              "       [5. , 3.5, 1.3, 0.3],\n",
              "       [6.7, 3.1, 4.7, 1.5],\n",
              "       [6.8, 2.8, 4.8, 1.4],\n",
              "       [6.1, 2.8, 4. , 1.3],\n",
              "       [6.1, 2.6, 5.6, 1.4],\n",
              "       [6.4, 3.2, 4.5, 1.5],\n",
              "       [6.1, 2.8, 4.7, 1.2],\n",
              "       [6.5, 2.8, 4.6, 1.5],\n",
              "       [6.1, 2.9, 4.7, 1.4],\n",
              "       [4.9, 3.6, 1.4, 0.1],\n",
              "       [6. , 2.9, 4.5, 1.5],\n",
              "       [5.5, 2.6, 4.4, 1.2],\n",
              "       [4.8, 3. , 1.4, 0.3],\n",
              "       [5.4, 3.9, 1.3, 0.4],\n",
              "       [5.6, 2.8, 4.9, 2. ],\n",
              "       [5.6, 3. , 4.5, 1.5],\n",
              "       [4.8, 3.4, 1.9, 0.2],\n",
              "       [4.4, 2.9, 1.4, 0.2],\n",
              "       [6.2, 2.8, 4.8, 1.8],\n",
              "       [4.6, 3.6, 1. , 0.2],\n",
              "       [5.1, 3.8, 1.9, 0.4],\n",
              "       [6.2, 2.9, 4.3, 1.3],\n",
              "       [5. , 2.3, 3.3, 1. ],\n",
              "       [5. , 3.4, 1.6, 0.4],\n",
              "       [6.4, 3.1, 5.5, 1.8],\n",
              "       [5.4, 3. , 4.5, 1.5],\n",
              "       [5.2, 3.5, 1.5, 0.2],\n",
              "       [6.1, 3. , 4.9, 1.8],\n",
              "       [6.4, 2.8, 5.6, 2.2],\n",
              "       [5.2, 2.7, 3.9, 1.4],\n",
              "       [5.7, 3.8, 1.7, 0.3],\n",
              "       [6. , 2.7, 5.1, 1.6],\n",
              "       [5.9, 3. , 4.2, 1.5],\n",
              "       [5.8, 2.6, 4. , 1.2],\n",
              "       [6.8, 3. , 5.5, 2.1],\n",
              "       [4.7, 3.2, 1.3, 0.2],\n",
              "       [6.9, 3.1, 5.1, 2.3],\n",
              "       [5. , 3.5, 1.6, 0.6],\n",
              "       [5.4, 3.7, 1.5, 0.2]])"
            ]
          },
          "metadata": {},
          "execution_count": 38
        }
      ]
    },
    {
      "cell_type": "code",
      "source": [
        "y"
      ],
      "metadata": {
        "colab": {
          "base_uri": "https://localhost:8080/"
        },
        "id": "VdQfsQa_pzY9",
        "outputId": "295269ac-e19e-48a6-8274-3073b05053c9"
      },
      "execution_count": 39,
      "outputs": [
        {
          "output_type": "execute_result",
          "data": {
            "text/plain": [
              "array([0, 0, 0, 0, 0, 0, 0, 0, 0, 0, 0, 0, 0, 0, 0, 0, 0, 0, 0, 0, 0, 0,\n",
              "       0, 0, 0, 0, 0, 0, 0, 0, 0, 0, 0, 0, 0, 0, 0, 0, 0, 0, 0, 0, 0, 0,\n",
              "       0, 0, 0, 0, 0, 0, 1, 1, 1, 1, 1, 1, 1, 1, 1, 1, 1, 1, 1, 1, 1, 1,\n",
              "       1, 1, 1, 1, 1, 1, 1, 1, 1, 1, 1, 1, 1, 1, 1, 1, 1, 1, 1, 1, 1, 1,\n",
              "       1, 1, 1, 1, 1, 1, 1, 1, 1, 1, 1, 1, 2, 2, 2, 2, 2, 2, 2, 2, 2, 2,\n",
              "       2, 2, 2, 2, 2, 2, 2, 2, 2, 2, 2, 2, 2, 2, 2, 2, 2, 2, 2, 2, 2, 2,\n",
              "       2, 2, 2, 2, 2, 2, 2, 2, 2, 2, 2, 2, 2, 2, 2, 2, 2, 2])"
            ]
          },
          "metadata": {},
          "execution_count": 39
        }
      ]
    },
    {
      "cell_type": "code",
      "source": [
        "# Instanciar um objeto KNN\n",
        "knn = KNeighborsClassifier(n_neighbors=7)"
      ],
      "metadata": {
        "id": "cZ5E9cB_p22E"
      },
      "execution_count": 40,
      "outputs": []
    },
    {
      "cell_type": "code",
      "source": [
        "# Treinar o modelo\n",
        "knn.fit(X_train, y_train)"
      ],
      "metadata": {
        "colab": {
          "base_uri": "https://localhost:8080/"
        },
        "id": "C1zlijThp4gk",
        "outputId": "d93fba3a-160f-49ae-df24-e7c568de0267"
      },
      "execution_count": 41,
      "outputs": [
        {
          "output_type": "execute_result",
          "data": {
            "text/plain": [
              "KNeighborsClassifier(n_neighbors=7)"
            ]
          },
          "metadata": {},
          "execution_count": 41
        }
      ]
    },
    {
      "cell_type": "code",
      "source": [
        "knn.predict_proba([[4.8, 2.8, 2.1, 3.3]])"
      ],
      "metadata": {
        "colab": {
          "base_uri": "https://localhost:8080/"
        },
        "id": "W7K-6mbnp7Zb",
        "outputId": "618eff4b-69d8-4d32-8dd0-1b2bf01a3ab0"
      },
      "execution_count": 42,
      "outputs": [
        {
          "output_type": "execute_result",
          "data": {
            "text/plain": [
              "array([[0.14285714, 0.85714286, 0.        ]])"
            ]
          },
          "metadata": {},
          "execution_count": 42
        }
      ]
    },
    {
      "cell_type": "code",
      "source": [
        "knn.predict([[4.8, 2.8, 2.1, 3.3]])"
      ],
      "metadata": {
        "colab": {
          "base_uri": "https://localhost:8080/"
        },
        "id": "f62n9NQAqqa8",
        "outputId": "52a1e34c-d972-4e64-f7fc-3c3be3d34273"
      },
      "execution_count": 43,
      "outputs": [
        {
          "output_type": "execute_result",
          "data": {
            "text/plain": [
              "array([1])"
            ]
          },
          "metadata": {},
          "execution_count": 43
        }
      ]
    },
    {
      "cell_type": "code",
      "source": [
        "# validando o modelo com o conjunto de dados de teste\n",
        "knn.score(X_test, y_test)"
      ],
      "metadata": {
        "colab": {
          "base_uri": "https://localhost:8080/"
        },
        "id": "a41gy0uMqsM8",
        "outputId": "f27cedc1-3a16-4feb-d224-345a757c562b"
      },
      "execution_count": 44,
      "outputs": [
        {
          "output_type": "execute_result",
          "data": {
            "text/plain": [
              "0.9777777777777777"
            ]
          },
          "metadata": {},
          "execution_count": 44
        }
      ]
    },
    {
      "cell_type": "code",
      "source": [
        "del knn"
      ],
      "metadata": {
        "id": "wV-mexlKtBQO"
      },
      "execution_count": 45,
      "outputs": []
    },
    {
      "cell_type": "markdown",
      "source": [
        "#Atividade\n",
        "##Criar um classificador para vinhos usando o SK-Learn KNN e o dataset Wine, considerando:\n",
        "\n",
        "*   Carregue o dataset Wine com o comando: datasets.load_wine()\n",
        "*   Usar apenas os atributos álcool [0], ácido málico [1], magnésio [4] e flavonóides [6]\n",
        "*   Dividir a base de dados entre treinamento e teste na relação 70/30\n",
        "*   Instancie o classificador KNN com 7 vizinhos, anote a acurácia e depois reinstancie o classificador com\n",
        "4 vizinhos e compare a acurácia.\n",
        "*   Envie o seu arquivo notebook (.ipynb) no Teams\n"
      ],
      "metadata": {
        "id": "YrG79WgusL-R"
      }
    },
    {
      "cell_type": "code",
      "source": [
        "#Import and load data\n",
        "wine = datasets.load_wine()"
      ],
      "metadata": {
        "id": "DUt9NNDwsdtD"
      },
      "execution_count": 46,
      "outputs": []
    },
    {
      "cell_type": "code",
      "source": [
        "#X = wine.data[:, [0, 1, 4, 6]]\n",
        "X = wine.data[:, [0, 1, 4, 6]]\n",
        "y = wine.target"
      ],
      "metadata": {
        "id": "D-EOrA0nsxr-"
      },
      "execution_count": 47,
      "outputs": []
    },
    {
      "cell_type": "code",
      "source": [
        "# Dividir os dados em conjuntos de dados de treinamento e teste.\n",
        "X_train, X_test, y_train, y_test = train_test_split(X, y, test_size=0.3, random_state=0)\n",
        "print('There are {} samples in the training set and {} samples in the test set'.\n",
        "format(len(X_train), len(X_test)))"
      ],
      "metadata": {
        "colab": {
          "base_uri": "https://localhost:8080/"
        },
        "id": "LkE8nR6dtGMs",
        "outputId": "052ee339-1de8-4c68-cd82-393aa03ecefb"
      },
      "execution_count": 48,
      "outputs": [
        {
          "output_type": "stream",
          "name": "stdout",
          "text": [
            "There are 124 samples in the training set and 54 samples in the test set\n"
          ]
        }
      ]
    },
    {
      "cell_type": "code",
      "source": [
        "X_test"
      ],
      "metadata": {
        "colab": {
          "base_uri": "https://localhost:8080/"
        },
        "id": "LM7kZk7ytVNW",
        "outputId": "27d3396e-b425-4801-a85b-133997b196ec"
      },
      "execution_count": 49,
      "outputs": [
        {
          "output_type": "execute_result",
          "data": {
            "text/plain": [
              "array([[ 13.74,   1.67, 118.  ,   2.9 ],\n",
              "       [ 12.79,   2.67, 112.  ,   1.36],\n",
              "       [ 12.37,   1.13,  87.  ,   3.1 ],\n",
              "       [ 13.56,   1.73, 116.  ,   2.78],\n",
              "       [ 13.05,   5.8 ,  86.  ,   2.65],\n",
              "       [ 11.56,   2.05, 119.  ,   5.08],\n",
              "       [ 14.06,   2.15, 121.  ,   2.51],\n",
              "       [ 12.36,   3.83,  88.  ,   0.92],\n",
              "       [ 12.25,   1.73,  80.  ,   2.03],\n",
              "       [ 12.08,   1.83,  81.  ,   1.5 ],\n",
              "       [ 13.36,   2.56,  89.  ,   0.5 ],\n",
              "       [ 13.88,   5.04,  80.  ,   0.34],\n",
              "       [ 14.2 ,   1.76, 112.  ,   3.39],\n",
              "       [ 12.37,   1.07,  88.  ,   3.75],\n",
              "       [ 13.58,   2.58, 105.  ,   0.84],\n",
              "       [ 12.  ,   0.92,  86.  ,   2.26],\n",
              "       [ 13.76,   1.53, 132.  ,   2.74],\n",
              "       [ 14.19,   1.59, 108.  ,   3.93],\n",
              "       [ 12.64,   1.36, 100.  ,   1.41],\n",
              "       [ 13.83,   1.65,  94.  ,   2.99],\n",
              "       [ 13.11,   1.01,  78.  ,   3.18],\n",
              "       [ 13.05,   1.65,  98.  ,   2.43],\n",
              "       [ 13.24,   2.59, 118.  ,   2.69],\n",
              "       [ 12.51,   1.73,  85.  ,   1.92],\n",
              "       [ 12.33,   1.1 , 101.  ,   1.09],\n",
              "       [ 12.52,   2.43,  88.  ,   2.27],\n",
              "       [ 12.43,   1.53,  86.  ,   3.15],\n",
              "       [ 12.16,   1.61,  90.  ,   1.69],\n",
              "       [ 11.76,   2.68, 103.  ,   2.03],\n",
              "       [ 13.78,   2.76,  90.  ,   0.68],\n",
              "       [ 13.39,   1.77,  93.  ,   2.94],\n",
              "       [ 14.22,   1.7 , 118.  ,   3.  ],\n",
              "       [ 12.04,   4.3 ,  80.  ,   1.75],\n",
              "       [ 14.21,   4.04, 111.  ,   2.65],\n",
              "       [ 14.83,   1.64,  97.  ,   2.98],\n",
              "       [ 13.05,   1.77, 107.  ,   3.  ],\n",
              "       [ 13.69,   3.26, 107.  ,   0.56],\n",
              "       [ 12.69,   1.53,  80.  ,   1.46],\n",
              "       [ 11.62,   1.99,  98.  ,   2.26],\n",
              "       [ 13.4 ,   3.91, 102.  ,   0.75],\n",
              "       [ 13.5 ,   1.81,  96.  ,   2.61],\n",
              "       [ 13.73,   1.5 , 101.  ,   3.25],\n",
              "       [ 12.29,   2.83,  88.  ,   2.25],\n",
              "       [ 12.6 ,   1.34,  88.  ,   1.36],\n",
              "       [ 11.41,   0.74,  88.  ,   2.01],\n",
              "       [ 13.64,   3.1 , 116.  ,   3.03],\n",
              "       [ 12.6 ,   2.46,  94.  ,   0.66],\n",
              "       [ 11.96,   1.09, 101.  ,   2.14],\n",
              "       [ 12.25,   3.88, 112.  ,   0.78],\n",
              "       [ 14.3 ,   1.92, 120.  ,   3.14],\n",
              "       [ 12.88,   2.99, 104.  ,   1.22],\n",
              "       [ 13.49,   3.59,  88.  ,   0.48],\n",
              "       [ 13.56,   1.71, 117.  ,   3.29],\n",
              "       [ 14.34,   1.68,  98.  ,   1.31]])"
            ]
          },
          "metadata": {},
          "execution_count": 49
        }
      ]
    },
    {
      "cell_type": "code",
      "source": [
        "y"
      ],
      "metadata": {
        "colab": {
          "base_uri": "https://localhost:8080/"
        },
        "id": "JfK_skqTtyy0",
        "outputId": "948255f1-a897-46d4-dea9-2b331b2795cd"
      },
      "execution_count": 50,
      "outputs": [
        {
          "output_type": "execute_result",
          "data": {
            "text/plain": [
              "array([0, 0, 0, 0, 0, 0, 0, 0, 0, 0, 0, 0, 0, 0, 0, 0, 0, 0, 0, 0, 0, 0,\n",
              "       0, 0, 0, 0, 0, 0, 0, 0, 0, 0, 0, 0, 0, 0, 0, 0, 0, 0, 0, 0, 0, 0,\n",
              "       0, 0, 0, 0, 0, 0, 0, 0, 0, 0, 0, 0, 0, 0, 0, 1, 1, 1, 1, 1, 1, 1,\n",
              "       1, 1, 1, 1, 1, 1, 1, 1, 1, 1, 1, 1, 1, 1, 1, 1, 1, 1, 1, 1, 1, 1,\n",
              "       1, 1, 1, 1, 1, 1, 1, 1, 1, 1, 1, 1, 1, 1, 1, 1, 1, 1, 1, 1, 1, 1,\n",
              "       1, 1, 1, 1, 1, 1, 1, 1, 1, 1, 1, 1, 1, 1, 1, 1, 1, 1, 1, 1, 2, 2,\n",
              "       2, 2, 2, 2, 2, 2, 2, 2, 2, 2, 2, 2, 2, 2, 2, 2, 2, 2, 2, 2, 2, 2,\n",
              "       2, 2, 2, 2, 2, 2, 2, 2, 2, 2, 2, 2, 2, 2, 2, 2, 2, 2, 2, 2, 2, 2,\n",
              "       2, 2])"
            ]
          },
          "metadata": {},
          "execution_count": 50
        }
      ]
    },
    {
      "cell_type": "code",
      "source": [
        "# Instanciar um objeto KNN\n",
        "knn = KNeighborsClassifier(n_neighbors=7)"
      ],
      "metadata": {
        "id": "H5BJGRRTt2Vk"
      },
      "execution_count": 51,
      "outputs": []
    },
    {
      "cell_type": "code",
      "source": [
        "# Treinar o modelo\n",
        "knn.fit(X_train, y_train)"
      ],
      "metadata": {
        "colab": {
          "base_uri": "https://localhost:8080/"
        },
        "id": "TF8htkW4uUYU",
        "outputId": "ad914523-44d9-4ff1-cf7c-ab45dca5367e"
      },
      "execution_count": 29,
      "outputs": [
        {
          "output_type": "execute_result",
          "data": {
            "text/plain": [
              "KNeighborsClassifier(n_neighbors=7)"
            ]
          },
          "metadata": {},
          "execution_count": 29
        }
      ]
    },
    {
      "cell_type": "code",
      "source": [
        "knn.predict_proba([[4.8, 2.8, 2.1, 3.3]])"
      ],
      "metadata": {
        "colab": {
          "base_uri": "https://localhost:8080/"
        },
        "id": "0GEJc5Z0u3l0",
        "outputId": "ad7dd5f7-ceed-4e0f-ecd2-3ba96957c139"
      },
      "execution_count": 30,
      "outputs": [
        {
          "output_type": "execute_result",
          "data": {
            "text/plain": [
              "array([[0., 1., 0.]])"
            ]
          },
          "metadata": {},
          "execution_count": 30
        }
      ]
    },
    {
      "cell_type": "code",
      "source": [
        "knn.predict([[4.8, 2.8, 2.1, 3.3]])"
      ],
      "metadata": {
        "colab": {
          "base_uri": "https://localhost:8080/"
        },
        "id": "Y37z1Uc_u8oa",
        "outputId": "79cbc914-26c2-4bf5-e4cf-c032fb7e1877"
      },
      "execution_count": 31,
      "outputs": [
        {
          "output_type": "execute_result",
          "data": {
            "text/plain": [
              "array([1])"
            ]
          },
          "metadata": {},
          "execution_count": 31
        }
      ]
    },
    {
      "cell_type": "code",
      "source": [
        "# validando o modelo com o conjunto de dados de teste\n",
        "knn.score(X_test, y_test)"
      ],
      "metadata": {
        "colab": {
          "base_uri": "https://localhost:8080/"
        },
        "id": "FvXpLTm7vCy5",
        "outputId": "e1b8ab6f-a691-4412-9592-51dd0bbfd7bd"
      },
      "execution_count": 32,
      "outputs": [
        {
          "output_type": "execute_result",
          "data": {
            "text/plain": [
              "0.6666666666666666"
            ]
          },
          "metadata": {},
          "execution_count": 32
        }
      ]
    },
    {
      "cell_type": "code",
      "source": [
        "# Instanciar um objeto KNN\n",
        "knn = KNeighborsClassifier(n_neighbors=4)"
      ],
      "metadata": {
        "id": "ESszHpaIwn99"
      },
      "execution_count": 52,
      "outputs": []
    },
    {
      "cell_type": "code",
      "source": [
        "# Treinar o modelo\n",
        "knn.fit(X_train, y_train)"
      ],
      "metadata": {
        "colab": {
          "base_uri": "https://localhost:8080/"
        },
        "id": "zBQhmKTMw7yD",
        "outputId": "1b72173e-7731-424f-de57-87090af81a0c"
      },
      "execution_count": 53,
      "outputs": [
        {
          "output_type": "execute_result",
          "data": {
            "text/plain": [
              "KNeighborsClassifier(n_neighbors=4)"
            ]
          },
          "metadata": {},
          "execution_count": 53
        }
      ]
    },
    {
      "cell_type": "code",
      "source": [
        "knn.predict_proba([[4.8, 2.8, 2.1, 3.3]])"
      ],
      "metadata": {
        "colab": {
          "base_uri": "https://localhost:8080/"
        },
        "id": "N2LnnKQRw9qb",
        "outputId": "f59c7c77-bfd4-49d3-cfde-ea0c30855df9"
      },
      "execution_count": 54,
      "outputs": [
        {
          "output_type": "execute_result",
          "data": {
            "text/plain": [
              "array([[0., 1., 0.]])"
            ]
          },
          "metadata": {},
          "execution_count": 54
        }
      ]
    },
    {
      "cell_type": "code",
      "source": [
        "knn.predict([[4.8, 2.8, 2.1, 3.3]])"
      ],
      "metadata": {
        "colab": {
          "base_uri": "https://localhost:8080/"
        },
        "id": "BGtaU8Frw_Oj",
        "outputId": "14dfa4b3-ed35-4000-bfd5-2b3d6ce1d650"
      },
      "execution_count": 55,
      "outputs": [
        {
          "output_type": "execute_result",
          "data": {
            "text/plain": [
              "array([1])"
            ]
          },
          "metadata": {},
          "execution_count": 55
        }
      ]
    },
    {
      "cell_type": "code",
      "source": [
        "# validando o modelo com o conjunto de dados de teste\n",
        "knn.score(X_test, y_test)"
      ],
      "metadata": {
        "colab": {
          "base_uri": "https://localhost:8080/"
        },
        "id": "3taozFPdxBFU",
        "outputId": "12e8f3dd-8876-4134-c224-268ed9296ac5"
      },
      "execution_count": 56,
      "outputs": [
        {
          "output_type": "execute_result",
          "data": {
            "text/plain": [
              "0.8148148148148148"
            ]
          },
          "metadata": {},
          "execution_count": 56
        }
      ]
    }
  ]
}