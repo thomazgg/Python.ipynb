{
  "nbformat": 4,
  "nbformat_minor": 0,
  "metadata": {
    "colab": {
      "provenance": [],
      "authorship_tag": "ABX9TyNhdXpH3+8Oy0wBWW4PD7Sv",
      "include_colab_link": true
    },
    "kernelspec": {
      "name": "python3",
      "display_name": "Python 3"
    },
    "language_info": {
      "name": "python"
    }
  },
  "cells": [
    {
      "cell_type": "markdown",
      "metadata": {
        "id": "view-in-github",
        "colab_type": "text"
      },
      "source": [
        "<a href=\"https://colab.research.google.com/github/thomazgg/Python.ipynb/blob/main/AprendizagemSupervisionada.ipynb\" target=\"_parent\"><img src=\"https://colab.research.google.com/assets/colab-badge.svg\" alt=\"Open In Colab\"/></a>"
      ]
    },
    {
      "cell_type": "markdown",
      "source": [
        "#Hands-on\n",
        "\n",
        "Classificador de tipo de flor Íris usando o algoritmo KNN da biblioteca SK-Learn"
      ],
      "metadata": {
        "id": "1mcUv7M-pY7M"
      }
    },
    {
      "cell_type": "code",
      "execution_count": 1,
      "metadata": {
        "id": "10575P-IpTW_"
      },
      "outputs": [],
      "source": [
        "#Import modules\n",
        "import numpy as np\n",
        "from sklearn import datasets\n",
        "from sklearn.neighbors import KNeighborsClassifier\n",
        "from sklearn.model_selection import train_test_split"
      ]
    },
    {
      "cell_type": "code",
      "source": [
        "#Import and load data\n",
        "iris = datasets.load_iris()"
      ],
      "metadata": {
        "id": "wH9FWmtOpoGF"
      },
      "execution_count": 2,
      "outputs": []
    },
    {
      "cell_type": "code",
      "source": [
        "#X = iris.data[:, [0, 1, 2, 3]]\n",
        "X = iris.data\n",
        "y = iris.target"
      ],
      "metadata": {
        "id": "4XntYRkKppsT"
      },
      "execution_count": 3,
      "outputs": []
    },
    {
      "cell_type": "code",
      "source": [
        "# Dividir os dados em conjuntos de dados de treinamento e teste.\n",
        "X_train, X_test, y_train, y_test = train_test_split(X, y, test_size=0.3, random_state=0)\n",
        "print('There are {} samples in the training set and {} samples in the test set'.\n",
        "format(len(X_train), len(X_test)))"
      ],
      "metadata": {
        "colab": {
          "base_uri": "https://localhost:8080/"
        },
        "id": "GLgDFu7VpsA0",
        "outputId": "75b4d4e2-7280-4759-c56d-e856247a584e"
      },
      "execution_count": 5,
      "outputs": [
        {
          "output_type": "stream",
          "name": "stdout",
          "text": [
            "There are 105 samples in the training set and 45 samples in the test set\n"
          ]
        }
      ]
    },
    {
      "cell_type": "code",
      "source": [
        "X_test"
      ],
      "metadata": {
        "colab": {
          "base_uri": "https://localhost:8080/"
        },
        "id": "ZC6dsh5ypxCQ",
        "outputId": "9f2ac924-adfa-4db9-babe-1bf3262ef893"
      },
      "execution_count": 6,
      "outputs": [
        {
          "output_type": "execute_result",
          "data": {
            "text/plain": [
              "array([[5.8, 2.8, 5.1, 2.4],\n",
              "       [6. , 2.2, 4. , 1. ],\n",
              "       [5.5, 4.2, 1.4, 0.2],\n",
              "       [7.3, 2.9, 6.3, 1.8],\n",
              "       [5. , 3.4, 1.5, 0.2],\n",
              "       [6.3, 3.3, 6. , 2.5],\n",
              "       [5. , 3.5, 1.3, 0.3],\n",
              "       [6.7, 3.1, 4.7, 1.5],\n",
              "       [6.8, 2.8, 4.8, 1.4],\n",
              "       [6.1, 2.8, 4. , 1.3],\n",
              "       [6.1, 2.6, 5.6, 1.4],\n",
              "       [6.4, 3.2, 4.5, 1.5],\n",
              "       [6.1, 2.8, 4.7, 1.2],\n",
              "       [6.5, 2.8, 4.6, 1.5],\n",
              "       [6.1, 2.9, 4.7, 1.4],\n",
              "       [4.9, 3.6, 1.4, 0.1],\n",
              "       [6. , 2.9, 4.5, 1.5],\n",
              "       [5.5, 2.6, 4.4, 1.2],\n",
              "       [4.8, 3. , 1.4, 0.3],\n",
              "       [5.4, 3.9, 1.3, 0.4],\n",
              "       [5.6, 2.8, 4.9, 2. ],\n",
              "       [5.6, 3. , 4.5, 1.5],\n",
              "       [4.8, 3.4, 1.9, 0.2],\n",
              "       [4.4, 2.9, 1.4, 0.2],\n",
              "       [6.2, 2.8, 4.8, 1.8],\n",
              "       [4.6, 3.6, 1. , 0.2],\n",
              "       [5.1, 3.8, 1.9, 0.4],\n",
              "       [6.2, 2.9, 4.3, 1.3],\n",
              "       [5. , 2.3, 3.3, 1. ],\n",
              "       [5. , 3.4, 1.6, 0.4],\n",
              "       [6.4, 3.1, 5.5, 1.8],\n",
              "       [5.4, 3. , 4.5, 1.5],\n",
              "       [5.2, 3.5, 1.5, 0.2],\n",
              "       [6.1, 3. , 4.9, 1.8],\n",
              "       [6.4, 2.8, 5.6, 2.2],\n",
              "       [5.2, 2.7, 3.9, 1.4],\n",
              "       [5.7, 3.8, 1.7, 0.3],\n",
              "       [6. , 2.7, 5.1, 1.6],\n",
              "       [5.9, 3. , 4.2, 1.5],\n",
              "       [5.8, 2.6, 4. , 1.2],\n",
              "       [6.8, 3. , 5.5, 2.1],\n",
              "       [4.7, 3.2, 1.3, 0.2],\n",
              "       [6.9, 3.1, 5.1, 2.3],\n",
              "       [5. , 3.5, 1.6, 0.6],\n",
              "       [5.4, 3.7, 1.5, 0.2]])"
            ]
          },
          "metadata": {},
          "execution_count": 6
        }
      ]
    },
    {
      "cell_type": "code",
      "source": [
        "y"
      ],
      "metadata": {
        "colab": {
          "base_uri": "https://localhost:8080/"
        },
        "id": "VdQfsQa_pzY9",
        "outputId": "0a8721c6-bc41-4b39-ea79-83863d82f685"
      },
      "execution_count": 7,
      "outputs": [
        {
          "output_type": "execute_result",
          "data": {
            "text/plain": [
              "array([0, 0, 0, 0, 0, 0, 0, 0, 0, 0, 0, 0, 0, 0, 0, 0, 0, 0, 0, 0, 0, 0,\n",
              "       0, 0, 0, 0, 0, 0, 0, 0, 0, 0, 0, 0, 0, 0, 0, 0, 0, 0, 0, 0, 0, 0,\n",
              "       0, 0, 0, 0, 0, 0, 1, 1, 1, 1, 1, 1, 1, 1, 1, 1, 1, 1, 1, 1, 1, 1,\n",
              "       1, 1, 1, 1, 1, 1, 1, 1, 1, 1, 1, 1, 1, 1, 1, 1, 1, 1, 1, 1, 1, 1,\n",
              "       1, 1, 1, 1, 1, 1, 1, 1, 1, 1, 1, 1, 2, 2, 2, 2, 2, 2, 2, 2, 2, 2,\n",
              "       2, 2, 2, 2, 2, 2, 2, 2, 2, 2, 2, 2, 2, 2, 2, 2, 2, 2, 2, 2, 2, 2,\n",
              "       2, 2, 2, 2, 2, 2, 2, 2, 2, 2, 2, 2, 2, 2, 2, 2, 2, 2])"
            ]
          },
          "metadata": {},
          "execution_count": 7
        }
      ]
    },
    {
      "cell_type": "code",
      "source": [
        "# Instanciar um objeto KNN\n",
        "knn = KNeighborsClassifier(n_neighbors=7)"
      ],
      "metadata": {
        "id": "cZ5E9cB_p22E"
      },
      "execution_count": 8,
      "outputs": []
    },
    {
      "cell_type": "code",
      "source": [
        "# Treinar o modelo\n",
        "knn.fit(X_train, y_train)"
      ],
      "metadata": {
        "colab": {
          "base_uri": "https://localhost:8080/"
        },
        "id": "C1zlijThp4gk",
        "outputId": "1b466267-f31d-476f-d601-08b2ff7eea0d"
      },
      "execution_count": 9,
      "outputs": [
        {
          "output_type": "execute_result",
          "data": {
            "text/plain": [
              "KNeighborsClassifier(n_neighbors=7)"
            ]
          },
          "metadata": {},
          "execution_count": 9
        }
      ]
    },
    {
      "cell_type": "code",
      "source": [
        "knn.predict_proba([[4.8, 2.8, 2.1, 3.3]])"
      ],
      "metadata": {
        "colab": {
          "base_uri": "https://localhost:8080/"
        },
        "id": "W7K-6mbnp7Zb",
        "outputId": "3873b854-68a8-4188-cca8-7a91411a6dd5"
      },
      "execution_count": 11,
      "outputs": [
        {
          "output_type": "execute_result",
          "data": {
            "text/plain": [
              "array([[0.14285714, 0.85714286, 0.        ]])"
            ]
          },
          "metadata": {},
          "execution_count": 11
        }
      ]
    },
    {
      "cell_type": "code",
      "source": [
        "knn.predict([[4.8, 2.8, 2.1, 3.3]])"
      ],
      "metadata": {
        "colab": {
          "base_uri": "https://localhost:8080/"
        },
        "id": "f62n9NQAqqa8",
        "outputId": "29f693b8-cadb-42e9-c7e4-af8c93a8a960"
      },
      "execution_count": 12,
      "outputs": [
        {
          "output_type": "execute_result",
          "data": {
            "text/plain": [
              "array([1])"
            ]
          },
          "metadata": {},
          "execution_count": 12
        }
      ]
    },
    {
      "cell_type": "code",
      "source": [
        "# validando o modelo com o conjunto de dados de teste\n",
        "knn.score(X_test, y_test)"
      ],
      "metadata": {
        "colab": {
          "base_uri": "https://localhost:8080/"
        },
        "id": "a41gy0uMqsM8",
        "outputId": "f6de89fc-8cfb-4f3a-e822-eafc9825928b"
      },
      "execution_count": 13,
      "outputs": [
        {
          "output_type": "execute_result",
          "data": {
            "text/plain": [
              "0.9777777777777777"
            ]
          },
          "metadata": {},
          "execution_count": 13
        }
      ]
    }
  ]
}