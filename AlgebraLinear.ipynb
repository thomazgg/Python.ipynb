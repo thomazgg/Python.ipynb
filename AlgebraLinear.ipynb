{
  "nbformat": 4,
  "nbformat_minor": 0,
  "metadata": {
    "colab": {
      "provenance": []
    },
    "kernelspec": {
      "name": "python3",
      "display_name": "Python 3"
    },
    "language_info": {
      "name": "python"
    }
  },
  "cells": [
    {
      "cell_type": "markdown",
      "source": [
        "**Matrizes**"
      ],
      "metadata": {
        "id": "8xR-6zaalAAb"
      }
    },
    {
      "cell_type": "code",
      "execution_count": 1,
      "metadata": {
        "colab": {
          "base_uri": "https://localhost:8080/"
        },
        "id": "DHNVc4ZvkPrR",
        "outputId": "0f798c8d-8826-4649-ef21-824d557298ee"
      },
      "outputs": [
        {
          "output_type": "stream",
          "name": "stdout",
          "text": [
            "Matriz A =  [[1, 2, 3], [4, 5, 6]]\n"
          ]
        }
      ],
      "source": [
        "A = [[1, 2, 3], # 2 rows & 3 columns\n",
        "     [4, 5, 6]]\n",
        "print(\"Matriz A = \", A)"
      ]
    },
    {
      "cell_type": "code",
      "source": [
        "B = [[1, 3], # 3 rows & 2 columns\n",
        "     [3, 4],\n",
        "     [5, 6]]\n",
        "print(\"Matriz B = \", B)"
      ],
      "metadata": {
        "colab": {
          "base_uri": "https://localhost:8080/"
        },
        "id": "rkb1IJ_Nku-8",
        "outputId": "de93ec95-5b36-472b-d3f8-d3ef2be3bde5"
      },
      "execution_count": 2,
      "outputs": [
        {
          "output_type": "stream",
          "name": "stdout",
          "text": [
            "Matriz B =  [[1, 3], [3, 4], [5, 6]]\n"
          ]
        }
      ]
    },
    {
      "cell_type": "code",
      "source": [
        "len(A)"
      ],
      "metadata": {
        "colab": {
          "base_uri": "https://localhost:8080/"
        },
        "id": "aSSEqaOBk_Fj",
        "outputId": "47b76226-a534-4037-b5fa-dbcfdbca6917"
      },
      "execution_count": 5,
      "outputs": [
        {
          "output_type": "execute_result",
          "data": {
            "text/plain": [
              "2"
            ]
          },
          "metadata": {},
          "execution_count": 5
        }
      ]
    },
    {
      "cell_type": "code",
      "source": [
        "len(A[0])"
      ],
      "metadata": {
        "colab": {
          "base_uri": "https://localhost:8080/"
        },
        "id": "ao9Sy10alTPL",
        "outputId": "7b870999-c1a6-488e-b7c0-7069aa7c10a1"
      },
      "execution_count": 7,
      "outputs": [
        {
          "output_type": "execute_result",
          "data": {
            "text/plain": [
              "3"
            ]
          },
          "metadata": {},
          "execution_count": 7
        }
      ]
    },
    {
      "cell_type": "code",
      "source": [
        "def shape(A):\n",
        "  num_rows = len(A)\n",
        "  num_cols = len(A[0]) if A else 0\n",
        "  return num_rows, num_cols"
      ],
      "metadata": {
        "id": "2kDMUsL0lKa6"
      },
      "execution_count": 8,
      "outputs": []
    },
    {
      "cell_type": "code",
      "source": [
        "print(shape([[1, 2, 3], [3, 2, 1]]))"
      ],
      "metadata": {
        "colab": {
          "base_uri": "https://localhost:8080/"
        },
        "id": "Pt6A_Ebhmf5c",
        "outputId": "4cb9db52-3265-412a-e6e3-d8153979cf03"
      },
      "execution_count": 9,
      "outputs": [
        {
          "output_type": "stream",
          "name": "stdout",
          "text": [
            "(2, 3)\n"
          ]
        }
      ]
    },
    {
      "cell_type": "code",
      "source": [
        "def get_row(A, i):\n",
        "  return A[i] # A[i] is the ith row\n",
        "\n",
        "def get_column(A, j):\n",
        "  return [A_i[j] #jth element of row A_i\n",
        "          for A_i in A] # for each row A_i"
      ],
      "metadata": {
        "id": "RL_Ui7wfnR-8"
      },
      "execution_count": 10,
      "outputs": []
    },
    {
      "cell_type": "code",
      "source": [
        "print(get_row([[1, 2, 3], [3, 2, 1]], 1))"
      ],
      "metadata": {
        "colab": {
          "base_uri": "https://localhost:8080/"
        },
        "id": "tz6KWEtgnwCb",
        "outputId": "bbf63f14-64cf-4030-e517-11c495462fb9"
      },
      "execution_count": 11,
      "outputs": [
        {
          "output_type": "stream",
          "name": "stdout",
          "text": [
            "[3, 2, 1]\n"
          ]
        }
      ]
    },
    {
      "cell_type": "code",
      "source": [
        "print(get_column([[1, 2, 3], [3, 2, 1]], 2))"
      ],
      "metadata": {
        "colab": {
          "base_uri": "https://localhost:8080/"
        },
        "id": "6tTxCskGnwZj",
        "outputId": "50d13049-042c-48c4-de19-7e1945015d56"
      },
      "execution_count": 12,
      "outputs": [
        {
          "output_type": "stream",
          "name": "stdout",
          "text": [
            "[3, 1]\n"
          ]
        }
      ]
    },
    {
      "cell_type": "code",
      "source": [
        "x = [item for row in A\n",
        "          for item in row\n",
        "          if item % 2 == 0]"
      ],
      "metadata": {
        "id": "XGN35BKwoCLj"
      },
      "execution_count": 14,
      "outputs": []
    },
    {
      "cell_type": "code",
      "source": [
        "x"
      ],
      "metadata": {
        "colab": {
          "base_uri": "https://localhost:8080/"
        },
        "id": "e_4g_nWgoRVr",
        "outputId": "cdfba8af-4c0c-43ce-d486-bb5021e0635d"
      },
      "execution_count": 15,
      "outputs": [
        {
          "output_type": "execute_result",
          "data": {
            "text/plain": [
              "[2, 4, 6]"
            ]
          },
          "metadata": {},
          "execution_count": 15
        }
      ]
    },
    {
      "cell_type": "code",
      "source": [
        "def make_matrix(num_rows, num_cols, entry_fn):\n",
        "  \"\"\"returns a num_rows x num_cols matrix\n",
        "  whose (i, j) entry in entry_fn(i, j)\"\"\"\n",
        "  return [[entry_fn(i, j) # given i, create a list\n",
        "          for j in range(num_cols)]\n",
        "          for i in range(num_rows)] # create one list for each i"
      ],
      "metadata": {
        "id": "SPGSSCdir8Zt"
      },
      "execution_count": 17,
      "outputs": []
    },
    {
      "cell_type": "markdown",
      "source": [
        "Tensores em Python"
      ],
      "metadata": {
        "id": "S77mkoCRv2rl"
      }
    },
    {
      "cell_type": "code",
      "source": [
        "from numpy import array\n",
        "T = array([\n",
        "    [[1,2,3],     [4,5,6],     [7,8,9]],\n",
        "    [[11,12,13], [14,15,16], [17,18,19]],\n",
        "    [[21,22,23], [24,25,26], [27,28,29]],\n",
        "    ])"
      ],
      "metadata": {
        "id": "YOtVVgBMshY9"
      },
      "execution_count": 21,
      "outputs": []
    },
    {
      "cell_type": "code",
      "source": [
        "print(T.shape)\n",
        "print(T)"
      ],
      "metadata": {
        "colab": {
          "base_uri": "https://localhost:8080/"
        },
        "id": "ZmHzQNOIwTVm",
        "outputId": "33290c5b-aea4-4992-d997-e6ee33653f93"
      },
      "execution_count": 22,
      "outputs": [
        {
          "output_type": "stream",
          "name": "stdout",
          "text": [
            "(3, 3, 3)\n",
            "[[[ 1  2  3]\n",
            "  [ 4  5  6]\n",
            "  [ 7  8  9]]\n",
            "\n",
            " [[11 12 13]\n",
            "  [14 15 16]\n",
            "  [17 18 19]]\n",
            "\n",
            " [[21 22 23]\n",
            "  [24 25 26]\n",
            "  [27 28 29]]]\n"
          ]
        }
      ]
    }
  ]
}