{
 "cells": [
  {
   "cell_type": "markdown",
   "metadata": {},
   "source": [
    "<h2>Estatística</h2>"
   ]
  },
  {
   "cell_type": "markdown",
   "metadata": {},
   "source": [
    "<h3>Descrevendo um único conjunto de dados</h3>\n",
    "<h4>Para descrevermos grandes volumes de dados lançamos mão das ferramentas estatísticas visto que analisar os dados brutos se torna impraticável\n",
    "    <br><br>\n",
    "Por ex.: para analisarmos as quantidades de amigos em uma rede social, usamos o histograma.\n",
    "</h4>"
   ]
  },
  {
   "cell_type": "code",
   "execution_count": 3,
   "metadata": {},
   "outputs": [],
   "source": [
    "from collections import Counter\n",
    "import matplotlib.pyplot as plt\n",
    "import random\n",
    "import math"
   ]
  },
  {
   "cell_type": "code",
   "execution_count": 4,
   "metadata": {},
   "outputs": [],
   "source": [
    "#num_friends = [random.randint(1,100) for i in range(100) ]\n",
    "num_friends = [100, 49, 41, 40, 25, 1, 1, 1, 1, 1, 2, 2, 2, 2, 3, 3, 3, 4, \n",
    "               4, 4, 5, 5, 6, 6, 7, 7, 7, 8, 8, 10, 11, 11, 12, 12,\n",
    "               15, 15, 15, 18, 20, 20]\n",
    "\n",
    "daily_min = [1, 39, 37, 35, 28, 7, 9, 8, 7, 8, 10, 11, 12, 9, 13, 15, 14, \n",
    "             14, 17, 16, 15, 19, 16, 21, 17, 19, 22, 18, 21, 20, 24, 23, 22, 25,\n",
    "             25, 27, 29, 28, 30, 32]"
   ]
  },
  {
   "cell_type": "code",
   "execution_count": 5,
   "metadata": {},
   "outputs": [
    {
     "data": {
      "image/png": "[encoded data removed]",
      "text/plain": [
       "<Figure size 640x480 with 1 Axes>"
      ]
     },
     "metadata": {},
     "output_type": "display_data"
    }
   ],
   "source": [
    "friend_counts = Counter(num_friends)\n",
    "xs = range(max(num_friends) + 1) # largest value is 100\n",
    "ys = [friend_counts[x] for x in xs] # height is just # of friends\n",
    "plt.bar(xs, ys)\n",
    "plt.axis([0, 101, 0, 8])\n",
    "plt.title(\"Histograma da contagem de amigos\")\n",
    "plt.xlabel(\"Qtde amigos\")\n",
    "plt.ylabel(\"Qtde de pessoas\")\n",
    "plt.show()"
   ]
  },
  {
   "cell_type": "markdown",
   "metadata": {},
   "source": [
    "<h4>Algumas estatísticas básicas: tamanho da base, maior quantidade de amigos, menor quantidade de amigos, etc.</h4>"
   ]
  },
  {
   "cell_type": "code",
   "execution_count": 6,
   "metadata": {},
   "outputs": [
    {
     "name": "stdout",
     "output_type": "stream",
     "text": [
      "Tamanho da base: 40\n",
      "Maior quantidade de amigos 100\n",
      "Menor quantidade de amigos 1\n"
     ]
    }
   ],
   "source": [
    "print(\"Tamanho da base:\", len(num_friends))\n",
    "print(\"Maior quantidade de amigos\", max(num_friends))\n",
    "print(\"Menor quantidade de amigos\", min(num_friends))"
   ]
  },
  {
   "cell_type": "code",
   "execution_count": 7,
   "metadata": {},
   "outputs": [
    {
     "name": "stdout",
     "output_type": "stream",
     "text": [
      "Menor qtde de amigos = 1\n",
      "Decima menor qtde de amigos = 3\n",
      "Segunda maior qtde de amigos = 49\n"
     ]
    }
   ],
   "source": [
    "sorted_num_friends = sorted(num_friends)\n",
    "print(\"Menor qtde de amigos =\", sorted_num_friends[0])\n",
    "print(\"Decima menor qtde de amigos =\", sorted_num_friends[9])\n",
    "print(\"Segunda maior qtde de amigos =\", sorted_num_friends[-2])"
   ]
  },
  {
   "cell_type": "markdown",
   "metadata": {},
   "source": [
    "<h3>Têndencia Central</h3>\n",
    "Normalmente queremos ter uma noção de onde os nossos dados estão centrados. \n",
    "<h4>Média</h4>\n",
    "Comumente usaremos a média que é a soma dos valores de uma base de dados dividido pela sua contagem.<br>"
   ]
  },
  {
   "cell_type": "code",
   "execution_count": 8,
   "metadata": {},
   "outputs": [
    {
     "name": "stdout",
     "output_type": "stream",
     "text": [
      "A media de amigos = 12.675\n"
     ]
    }
   ],
   "source": [
    "def media(x):\n",
    "    return sum(x)/len(x)\n",
    "print(\"A media de amigos =\", media(num_friends))"
   ]
  },
  {
   "cell_type": "markdown",
   "metadata": {},
   "source": [
    "<h4>Mediana</h4>\n",
    "Também podemos usar a mediana, que é o valor mais ao centro da base de dados considerando que ela esteja ordenada. Caso a quantidade de instâncias em uma base seja um número par, a mediana é obtida pela média dos dois valores mais centrais.<br><br>\n",
    "Por exemplo, se temos cinco instâncias de dados em um vetor ordenado x, a mediana é x [5 // 2] ou x [2]. Se tivermos seis pontos de dados então a mediana é obtida pela média de x [2] (o terceiro ponto) e x [3] (o quarto ponto)."
   ]
  },
  {
   "cell_type": "code",
   "execution_count": 9,
   "metadata": {},
   "outputs": [
    {
     "name": "stdout",
     "output_type": "stream",
     "text": [
      "A mediana de amigos = 7.0\n"
     ]
    }
   ],
   "source": [
    "def mediana(v):\n",
    "    n = len(v)\n",
    "    v_ordenado = sorted(v)\n",
    "    i_centro = n // 2\n",
    "    if n % 2 == 1:\n",
    "        return v_ordenado(i_centro)\n",
    "    else:\n",
    "        i_centro_2 = i_centro - 1\n",
    "        return (v_ordenado[i_centro_2] + v_ordenado[i_centro]) / 2\n",
    "    \n",
    "print(\"A mediana de amigos =\", mediana(num_friends))"
   ]
  },
  {
   "cell_type": "markdown",
   "metadata": {},
   "source": [
    "Claramente, a média é mais simples de calcular e varia conforme nossos dados são alterados. Se tivermos n pontos de dados e um deles aumentar em alguma quantidade pequena, então necessariamente a média aumentará. (Isso torna a média passível de todo tipo de truques de cálculo.)<br><br>\n",
    "A mediana, por outro lado, não sofre com valores discrepantes uma vez que considera o valor mais ao centro e é por isso que, para encontrar a mediana, temos que ordenar nossos dados.<br><br>\n",
    "**A média é muito sensível a valores discrepantes em nossos dados.** Se nosso usuário mais amigável tivesse 200 amigos (em vez de 100), a média subiria, enquanto a mediana permaneceria a mesma. Se os valores discrepantes forem, provavelmente, dados incorretos (ou, de outra forma, não representativos de qualquer fenômeno que estamos tentando entender), a média poderá, às vezes, nos fornecer uma imagem enganosa. <br>\n",
    "Por exemplo, é frequentemente contada a história que em meados da década de 1980, o curso da Universidade da Carolina do Norte com o maior salário médio inicial era a geografia, principalmente por causa da estrela da NBA (e outlier) Michael Jordan."
   ]
  },
  {
   "cell_type": "markdown",
   "metadata": {},
   "source": [
    "<h4>Quantil</h4>\n",
    "Vimos que a mediana divide o conjunto de dados ao meio, deixando 50% das observações abaixo e 50% acima dela. De modo análogo, podemos definir um quantil como sendo um valor que deixa p% dos dados abaixo e o restante acima dele.\n",
    "<br><br>\n",
    "Um quantil é uma <b>medida que marca a posição de separação em um conjunto ordenado de dados amostrais</b> de uma variável ou da sua distribuição probabilística de acordo com um percentual dado. <br>\n",
    "Por exemplo, o quantil 20% (ou 20%-quantil) é o valor que separa os 20% menores valores dos 80% maiores de uma amostra."
   ]
  },
  {
   "cell_type": "markdown",
   "metadata": {},
   "source": [
    "Alguns quantis ganharam nomes particulares. <br>\n",
    "Por exemplo, **a mediana é o quantil 50%** da distribuição de uma variável. <br>\n",
    "Também podemos dividir a distribuição de uma variável em quatro partes, gerando três **quartis**. O 1º quartil separa os 25% menores valores dos 75% maiores, o 2º quartil separa os 50% menores dos 50% maiores (também é a mediana) e o 3º quartil separa os 75% menores dos 25% maiores valores.\n",
    "<br><br>\n",
    "Seguindo a mesma lógica dos quartis, podemos dividir a distribuição em cinco partes, gerando os **quintis** (o quantil 20% é chamado de 1º quintil). Da mesma forma, podem ser calculados os **decis** (em intervalos de 10%) e **percentis** (em intervalos de 1%).\n",
    "<br><br>\n",
    "Exemplo:<br> \n",
    "P10 indica que 10% dos dados estão ordenados à sua esquerda e 90% à direita de P10. <br>\n",
    "P20 indica que 20% dos dados estão ordenados à sua esquerda e 80% à sua direita. "
   ]
  },
  {
   "cell_type": "code",
   "execution_count": 20,
   "metadata": {},
   "outputs": [],
   "source": [
    "def quantile(x, p):\n",
    "    \"\"\"returns the pth-percentile value in x\"\"\"\n",
    "    p_index = int(p * len(x))\n",
    "    #print(\"Index -> {}\".format(p_index))\n",
    "    return sorted(x)[p_index]\n"
   ]
  },
  {
   "cell_type": "code",
   "execution_count": 25,
   "metadata": {},
   "outputs": [
    {
     "name": "stdout",
     "output_type": "stream",
     "text": [
      "Tamanho da coleção -> 40\n",
      "Coleção ordenada -> [1, 1, 1, 1, 1, 2, 2, 2, 2, 3, 3, 3, 4, 4, 4, 5, 5, 6, 6, 7, 7, 7, 8, 8, 10, 11, 11, 12, 12, 15, 15, 15, 18, 20, 20, 25, 40, 41, 49, 100]\n",
      "\n",
      "P10 -> 1\n",
      "P25 -> 3\n",
      "P75 -> 15\n",
      "P90 -> 40\n"
     ]
    }
   ],
   "source": [
    "print(\"Tamanho da coleção -> {}\".format(len(num_friends)))\n",
    "print(\"Coleção ordenada -> {}\\n\".format(sorted(num_friends)))\n",
    "print(\"P10 -> {}\".format(quantile(num_friends, 0.10))) # 1\n",
    "print(\"P25 -> {}\".format(quantile(num_friends, 0.25))) # 3\n",
    "print(\"P75 -> {}\".format(quantile(num_friends, 0.75))) # 15\n",
    "print(\"P90 -> {}\".format(quantile(num_friends, 0.90))) # 40"
   ]
  },
  {
   "cell_type": "markdown",
   "metadata": {},
   "source": [
    "<h4>Moda</h4>\n",
    "<br>\n",
    "É o valor mais comum, aquele que mais se repete em uma base de dados."
   ]
  },
  {
   "cell_type": "code",
   "execution_count": 14,
   "metadata": {},
   "outputs": [
    {
     "name": "stdout",
     "output_type": "stream",
     "text": [
      "[1]\n"
     ]
    }
   ],
   "source": [
    "def mode(x):\n",
    "    \"\"\"returns a list, might be more than one mode\"\"\"\n",
    "    counts = Counter(x)\n",
    "    max_count = max(counts.values())\n",
    "    return [x_i for x_i, count in counts.items()\n",
    "        if count == max_count]\n",
    "\n",
    "print(mode(num_friends)) # 1"
   ]
  },
  {
   "cell_type": "code",
   "execution_count": 15,
   "metadata": {
    "scrolled": false
   },
   "outputs": [
    {
     "name": "stdout",
     "output_type": "stream",
     "text": [
      "[28, 7, 9, 8, 15, 14, 17, 16, 19, 21, 22, 25]\n"
     ]
    }
   ],
   "source": [
    "print(mode(daily_min))"
   ]
  },
  {
   "cell_type": "markdown",
   "metadata": {},
   "source": [
    "#### Simetria em distribuições"
   ]
  },
  {
   "cell_type": "markdown",
   "metadata": {},
   "source": [
    "Em distribuições simétricas, geralmente a média, a mediana e a moda são iguais. Numa distribuição assimétrica positiva (ou à direita), frequentemente a mediana é maior do que a moda e menor do que a média, que é muito influenciada pelos valores dos extremos que ocorrem na “cauda” superior da distribuição. Numa distribuição assimétrica negativa (ou à esquerda), os valores extremos influenciam a média no sentido oposto (“cauda inferior”), fazendo a mediana ser maior do que a média e inferior à moda."
   ]
  },
  {
   "cell_type": "markdown",
   "metadata": {},
   "source": [
    "<img src=\"img/medidas-de-tendencia-central.jpg\"/>"
   ]
  },
  {
   "cell_type": "markdown",
   "metadata": {},
   "source": [
    "<h3>Dispersão</h3>\n",
    "<br>\n",
    "Dispersão refere-se a medidas de quão espalhados estão os nossos dados. Normalmente, são estatísticas para as quais valores próximos de zero significam pouco espalhados e para os quais grandes valores significam muito espalhados. \n",
    "<h4>Intervalo</h4>\n",
    "Por exemplo, uma medida muito simples é o intervalo, que é apenas a diferença entre os elementos maiores e menores:"
   ]
  },
  {
   "cell_type": "code",
   "execution_count": 18,
   "metadata": {},
   "outputs": [
    {
     "data": {
      "text/plain": [
       "99"
      ]
     },
     "execution_count": 18,
     "metadata": {},
     "output_type": "execute_result"
    }
   ],
   "source": [
    "def data_range(x):\n",
    "    return max(x) - min(x)\n",
    "\n",
    "data_range(num_friends) # 99"
   ]
  },
  {
   "cell_type": "markdown",
   "metadata": {},
   "source": [
    "O intervalo é precisamente zero quando max e min são iguais, o que só pode acontecer se os elementos de x forem todos iguais, o que significa que os dados são tão agrupados (não dispersos) quanto possível.<br>\n",
    "Por outro lado, se o intervalo for grande, o máximo será muito maior que o mínimo e os dados serão mais dispersos.<br><br>\n",
    "Assim como a mediana, o intervalo não depende realmente de todo o conjunto de dados. Um conjunto de dados cujos pontos são todos 0 ou 100 tem o mesmo intervalo que um conjunto de dados cujos valores são 0, 100 e muitos 50s. Mas parece que o primeiro conjunto de dados “deveria” estar mais espalhado."
   ]
  },
  {
   "cell_type": "markdown",
   "metadata": {},
   "source": [
    "<h4>Variância</h4>\n",
    "<br>\n",
    "Uma medida mais complexa de dispersão é a variância, que é calculada como:"
   ]
  },
  {
   "cell_type": "code",
   "execution_count": 27,
   "metadata": {},
   "outputs": [],
   "source": [
    "def de_mean(x):\n",
    "    x_bar = media(x)\n",
    "    return [x_i - x_bar for x_i in x]\n",
    "\n",
    "def sum_of_squares(x):\n",
    "    return sum([x_i * x_i for x_i in x])\n",
    "\n",
    "def variance(x):\n",
    "    n = len(x)\n",
    "    deviations = de_mean(x)\n",
    "    return sum_of_squares(deviations) / (n - 1)"
   ]
  },
  {
   "cell_type": "code",
   "execution_count": 33,
   "metadata": {},
   "outputs": [
    {
     "name": "stdout",
     "output_type": "stream",
     "text": [
      "num_friends = [100, 49, 41, 40, 25, 1, 1, 1, 1, 1, 2, 2, 2, 2, 3, 3, 3, 4, 4, 4, 5, 5, 6, 6, 7, 7, 7, 8, 8, 10, 11, 11, 12, 12, 15, 15, 15, 18, 20, 20]\n",
      "\n",
      "mean = 12.675\n",
      "\n",
      "de_mean = [87.325, 36.325, 28.325, 27.325, 12.325, -11.675, -11.675, -11.675, -11.675, -11.675, -10.675, -10.675, -10.675, -10.675, -9.675, -9.675, -9.675, -8.675, -8.675, -8.675, -7.675000000000001, -7.675000000000001, -6.675000000000001, -6.675000000000001, -5.675000000000001, -5.675000000000001, -5.675000000000001, -4.675000000000001, -4.675000000000001, -2.6750000000000007, -1.6750000000000007, -1.6750000000000007, -0.6750000000000007, -0.6750000000000007, 2.3249999999999993, 2.3249999999999993, 2.3249999999999993, 5.324999999999999, 7.324999999999999, 7.324999999999999]\n"
     ]
    }
   ],
   "source": [
    "print(\"num_friends = {}\\n\".format(num_friends))\n",
    "print(\"mean = {}\\n\".format(media(num_friends)))\n",
    "print(\"de_mean = {}\".format(de_mean(num_friends)))"
   ]
  },
  {
   "cell_type": "code",
   "execution_count": 34,
   "metadata": {},
   "outputs": [
    {
     "name": "stdout",
     "output_type": "stream",
     "text": [
      "Variância No amigos = 328.2762820512823\n",
      "Variância Tempo Online = 80.22499999999998\n"
     ]
    }
   ],
   "source": [
    "print(\"Variância No amigos = {}\".format(variance(num_friends)))\n",
    "print(\"Variância Tempo Online = {}\".format(variance(daily_min)))"
   ]
  },
  {
   "cell_type": "markdown",
   "metadata": {},
   "source": [
    "Parece que a variância é quase o desvio médio da média, exceto pelo fato de estarmos dividindo por n-1 em vez de n. De fato, quando estamos lidando com uma amostra de uma população maior, <b>x_bar</b> é apenas uma estimativa da média real e é por isso que dividimos por n-1 em vez de n.\n"
   ]
  },
  {
   "cell_type": "markdown",
   "metadata": {},
   "source": [
    "<h4>Desvio Padrão</h4>\n",
    "<br>\n",
    "Quaisquer que sejam as unidades em que nossos dados estão, todas as nossas medidas de tendência central como a média, a mediana, etc. estão nessa mesma unidade. O intervalo também está nessa mesma unidade mas a <b>variância</b> tem unidades que são o quadrado das unidades originais. Por isso gostamos de olhar para o desvio padrão que nada mais é que a raiz da variância:"
   ]
  },
  {
   "cell_type": "code",
   "execution_count": 35,
   "metadata": {},
   "outputs": [
    {
     "name": "stdout",
     "output_type": "stream",
     "text": [
      "Desvio Padrão N. Amigos = 18.118396232870126\n",
      "Desvio Padrão Tempo Online = 8.95684096096386\n"
     ]
    }
   ],
   "source": [
    "def desvio_padrao(x):\n",
    "    return math.sqrt(variance(x))\n",
    "\n",
    "print(\"Desvio Padrão N. Amigos =\", desvio_padrao(num_friends))\n",
    "print(\"Desvio Padrão Tempo Online =\", desvio_padrao(daily_min))"
   ]
  },
  {
   "cell_type": "markdown",
   "metadata": {},
   "source": [
    "<h4>Atividade:</h4>\n",
    "<br>\n",
    "Dada a matriz a seguir que representa as médias bimestrais de 4 alunos, calcule a variância e o desvio padrão, considerando todas as notas."
   ]
  },
  {
   "cell_type": "code",
   "execution_count": 37,
   "metadata": {},
   "outputs": [],
   "source": [
    "import numpy as np"
   ]
  },
  {
   "cell_type": "code",
   "execution_count": 38,
   "metadata": {},
   "outputs": [],
   "source": [
    "notas = [[5, 8, 10, 7],\n",
    "         [8, 6, 6, 10],\n",
    "         [10, 9, 5, 10],\n",
    "         [8, 10, 9, 4]]"
   ]
  },
  {
   "cell_type": "code",
   "execution_count": 39,
   "metadata": {},
   "outputs": [
    {
     "name": "stdout",
     "output_type": "stream",
     "text": [
      "[[ 5  8 10  7]\n",
      " [ 8  6  6 10]\n",
      " [10  9  5 10]\n",
      " [ 8 10  9  4]]\n",
      "Notas flatted =  [ 5  8 10  7  8  6  6 10 10  9  5 10  8 10  9  4]\n"
     ]
    }
   ],
   "source": [
    "print(np.array(notas))\n",
    "print(\"Notas flatted = \", np.array(notas).flatten())"
   ]
  },
  {
   "cell_type": "markdown",
   "metadata": {},
   "source": [
    "resposta:\n",
    "<div style=\"display: None\">\n",
    "\n",
    "print(\"Média geral = \", media(np.array(notas).flatten()))\n",
    "print(\"Variância = \", variance(np.array(notas).flatten()))\n",
    "print(\"Desvio padrão = \",desvio_padrao(np.array(notas).flatten()))\n",
    "</div>"
   ]
  },
  {
   "cell_type": "markdown",
   "metadata": {},
   "source": [
    "<a href=\"https://numpy.org/doc/stable/reference/generated/numpy.matrix.flatten.html\">Mais sobre np.array.flatten</a>"
   ]
  },
  {
   "cell_type": "markdown",
   "metadata": {},
   "source": [
    "<h3>Correlação</h3>\n",
    "<br>\n",
    "A correlação mede o relacionamento entre duas variáveis ou métricas a fim de se obter alguma informação sobre os dados. Por exemplo, qual a relação entre o tempo despendido acessando um determinada rede social e o número de amigos?\n",
    "\n",
    "<h4>Covariância</h4>\n",
    "Primeiro analisaremos a covariância, <b>o análogo pareado da variância</b>. Enquanto a variância mede como uma única variável se desvia de sua média, a covariância mede como duas variáveis variam em conjunto a partir de suas respectivas médias"
   ]
  },
  {
   "cell_type": "code",
   "execution_count": 40,
   "metadata": {},
   "outputs": [
    {
     "data": {
      "text/plain": [
       "44.7173076923077"
      ]
     },
     "execution_count": 40,
     "metadata": {},
     "output_type": "execute_result"
    }
   ],
   "source": [
    "def dot(v, w):\n",
    "    \"\"\" soma dos produtos de dois vetores \"\"\"\n",
    "    return sum(v_i * w_i\n",
    "        for v_i, w_i in zip(v, w))\n",
    "\n",
    "def covariance(x, y):\n",
    "    n = len(x)\n",
    "    return dot(de_mean(x), de_mean(y)) / (n - 1)\n",
    "\n",
    "covariance(num_friends, daily_min) "
   ]
  },
  {
   "cell_type": "markdown",
   "metadata": {},
   "source": [
    "Lembre-se de que a função \"dot\" soma os produtos dos pares correspondentes de elementos. Quando os elementos correspondentes de x e y estão ambos acima de suas médias ou ambos abaixo de suas médias, um número positivo entra na soma. Quando um está acima de sua média e o outro abaixo, um número negativo entra na soma. \n",
    "<br>Assim:\n",
    "<ul>\n",
    "    <li>Uma covariância positiva “grande” significa que x tende a ser grande quando y é grande e tende a ser pequeno quando y é pequeno</li> \n",
    "    <li>Uma covariância negativa “grande” significa o oposto - que x tende a ser pequeno quando y é grande e vice-versa</li>\n",
    "    <li>Uma covariância próxima de zero significa que não existe tal relação</li>\n",
    "</ul>"
   ]
  },
  {
   "cell_type": "markdown",
   "metadata": {},
   "source": [
    "<h4>Correlação</h4>\n",
    "<br>\n",
    "\n",
    "No entanto, a covariância pode ser difícil de interpretar, por isso é mais comum olharmos para a correlação que divide a covariância de duas variáveis pelos desvios padrão de ambas as variáveis"
   ]
  },
  {
   "cell_type": "code",
   "execution_count": 41,
   "metadata": {},
   "outputs": [
    {
     "data": {
      "text/plain": [
       "0.2755503912677958"
      ]
     },
     "execution_count": 41,
     "metadata": {},
     "output_type": "execute_result"
    }
   ],
   "source": [
    "def correlation(x, y):\n",
    "    stdev_x = desvio_padrao(x)\n",
    "    stdev_y = desvio_padrao(y)\n",
    "    if stdev_x > 0 and stdev_y > 0:\n",
    "        return covariance(x, y) / stdev_x / stdev_y\n",
    "    else:\n",
    "        return 0 # if no variation, correlation is zero\n",
    "    \n",
    "correlation(num_friends, daily_min) "
   ]
  },
  {
   "cell_type": "markdown",
   "metadata": {},
   "source": [
    "A correlação não possui unidade e está sempre entre -1 (anti-correlação perfeita) e 1 (correlação perfeita). Um número como 0,27 representa uma correlação positiva relativamente fraca. \n",
    "<br>\n",
    "No entanto, uma coisa que negligenciamos foi examinar nossos dados, abaixo um gráfico de espalhamento da relação entre quantidade de amigos e minutos por dia com um \"outlier\"."
   ]
  },
  {
   "cell_type": "code",
   "execution_count": 42,
   "metadata": {},
   "outputs": [
    {
     "data": {
      "image/png": "[encoded data removed]",
      "text/plain": [
       "<Figure size 640x480 with 1 Axes>"
      ]
     },
     "metadata": {},
     "output_type": "display_data"
    }
   ],
   "source": [
    "plt.scatter(num_friends, daily_min)\n",
    "plt.title(\"Minutos por dia X numero de amigos\")\n",
    "plt.xlabel(\"Qtde de amigos\")\n",
    "plt.ylabel(\"Minutos por dia no site\")\n",
    "plt.show()"
   ]
  },
  {
   "cell_type": "markdown",
   "metadata": {},
   "source": [
    "A seguir, o mesmo gráfico anterior sem o outlier:"
   ]
  },
  {
   "cell_type": "code",
   "execution_count": 43,
   "metadata": {},
   "outputs": [
    {
     "data": {
      "image/png": "[encoded data removed]",
      "text/plain": [
       "<Figure size 640x480 with 1 Axes>"
      ]
     },
     "metadata": {},
     "output_type": "display_data"
    }
   ],
   "source": [
    "plt.scatter(num_friends[1:], daily_min[1:])\n",
    "plt.title(\"Minutos por dia X numero de amigos\")\n",
    "plt.xlabel(\"Qtde de amigos\")\n",
    "plt.ylabel(\"Minutos por dia no site\")\n",
    "plt.show()"
   ]
  },
  {
   "cell_type": "code",
   "execution_count": 44,
   "metadata": {},
   "outputs": [
    {
     "name": "stdout",
     "output_type": "stream",
     "text": [
      "Correlação com outlier:  0.2755503912677958  -> Baixa correlação\n",
      "Correlação sem outlier:  0.9014335836717391  -> Alta correlação\n"
     ]
    }
   ],
   "source": [
    "print(\"Correlação com outlier: \",correlation(num_friends, daily_min), \" -> Baixa correlação\")\n",
    "print(\"Correlação sem outlier: \",correlation(num_friends[1:], daily_min[1:]), \" -> Alta correlação\")"
   ]
  },
  {
   "cell_type": "markdown",
   "metadata": {},
   "source": [
    "<h3><a href=\"https://youtu.be/sxYrzzy3cq8\">O Paradoxo de Simpson</a></h3>\n",
    "<br>\n",
    "Uma surpresa não incomum ao analisar os dados é o Paradoxo de Simpson, no qual as correlações podem ser enganosas quando variáveis ocultas e confusas são ignoradas.<br>\n",
    "<!--<video width=\"800\" controls src=\"Paradoxo_Simpson.mp4\" />-->\n"
   ]
  },
  {
   "cell_type": "code",
   "execution_count": null,
   "metadata": {},
   "outputs": [],
   "source": []
  }
 ],
 "metadata": {
  "kernelspec": {
   "display_name": "Python 3 (ipykernel)",
   "language": "python",
   "name": "python3"
  },
  "language_info": {
   "codemirror_mode": {
    "name": "ipython",
    "version": 3
   },
   "file_extension": ".py",
   "mimetype": "text/x-python",
   "name": "python",
   "nbconvert_exporter": "python",
   "pygments_lexer": "ipython3",
   "version": "3.9.13"
  }
 },
 "nbformat": 4,
 "nbformat_minor": 2
}
